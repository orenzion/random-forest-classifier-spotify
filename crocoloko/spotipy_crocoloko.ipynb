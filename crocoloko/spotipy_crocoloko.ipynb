{
 "cells": [
  {
   "cell_type": "markdown",
   "metadata": {},
   "source": [
    "# crocoloko data analysis\n",
    "## album: the crocodile come alive"
   ]
  },
  {
   "cell_type": "code",
   "execution_count": 1,
   "metadata": {},
   "outputs": [],
   "source": [
    "import spotipy\n",
    "import json\n",
    "import time\n",
    "import sys\n",
    "import pandas as pd\n",
    "import numpy as np"
   ]
  },
  {
   "cell_type": "code",
   "execution_count": 2,
   "metadata": {},
   "outputs": [],
   "source": [
    "from spotipy.oauth2 import SpotifyClientCredentials #To access authorised Spotify data\n",
    "client_id = 'e2259109005e4bca90a98a851f042e7e'\n",
    "client_secret = '7a39ee07c96d451298fa86308bd66ae0'"
   ]
  },
  {
   "cell_type": "code",
   "execution_count": 3,
   "metadata": {},
   "outputs": [],
   "source": [
    "client_credentials_manager = SpotifyClientCredentials(client_id=client_id, client_secret=client_secret)\n",
    "sp = spotipy.Spotify(client_credentials_manager=client_credentials_manager) #spotify object to access API"
   ]
  },
  {
   "cell_type": "code",
   "execution_count": 4,
   "metadata": {},
   "outputs": [
    {
     "data": {
      "text/plain": [
       "[{'external_urls': {'spotify': 'https://open.spotify.com/artist/14rJsXfdDhM68msOhfXgSH'},\n",
       "  'href': 'https://api.spotify.com/v1/artists/14rJsXfdDhM68msOhfXgSH',\n",
       "  'id': '14rJsXfdDhM68msOhfXgSH',\n",
       "  'name': 'Crocoloko',\n",
       "  'type': 'artist',\n",
       "  'uri': 'spotify:artist:14rJsXfdDhM68msOhfXgSH'}]"
      ]
     },
     "execution_count": 4,
     "metadata": {},
     "output_type": "execute_result"
    }
   ],
   "source": [
    "name = \"crocoloko\" #chosen artist\n",
    "result = sp.search(name) #search query\n",
    "result['tracks']['items'][0]['artists']"
   ]
  },
  {
   "cell_type": "code",
   "execution_count": 5,
   "metadata": {},
   "outputs": [],
   "source": [
    "#Extract Artist's uri\n",
    "artist_uri = result['tracks']['items'][0]['artists'][0]['uri']\n",
    "#Pull all of the artist's albums\n",
    "sp_albums = sp.artist_albums(artist_uri, album_type='album')\n",
    "#Store artist's albums' names' and uris in separate lists\n",
    "album_names = []\n",
    "album_uris = []\n",
    "for i in range(len(sp_albums['items'])):\n",
    "    album_names.append(sp_albums['items'][i]['name'])\n",
    "    album_uris.append(sp_albums['items'][i]['uri'])"
   ]
  },
  {
   "cell_type": "code",
   "execution_count": 6,
   "metadata": {},
   "outputs": [
    {
     "data": {
      "text/plain": [
       "['spotify:album:43CNlNIcLcywjvbeiRKV6F',\n",
       " 'spotify:album:31nDsqqEd7xJ3mwWavvkHa']"
      ]
     },
     "execution_count": 6,
     "metadata": {},
     "output_type": "execute_result"
    }
   ],
   "source": [
    "album_uris"
   ]
  },
  {
   "cell_type": "code",
   "execution_count": 7,
   "metadata": {},
   "outputs": [
    {
     "data": {
      "text/plain": [
       "['The Crocodile Come Alive Pt. 2', 'The Crocodile Come Alive']"
      ]
     },
     "execution_count": 7,
     "metadata": {},
     "output_type": "execute_result"
    }
   ],
   "source": [
    "album_names"
   ]
  },
  {
   "cell_type": "markdown",
   "metadata": {},
   "source": [
    "### get track ids"
   ]
  },
  {
   "cell_type": "code",
   "execution_count": 8,
   "metadata": {},
   "outputs": [
    {
     "name": "stdout",
     "output_type": "stream",
     "text": [
      "  0 Alice in wonderland\n",
      "  1 Sex Drugs Goa Trance\n",
      "  2 The Voice Of The Butterfly\n",
      "  3 Sound of the middle east\n",
      "  4 The Crocodile Come Alive\n",
      "  5 Voice of Butterfly - Vandeta & Ayawaska Remix\n",
      "  6 Chess Game\n",
      "  7 Hippie Logic\n",
      "  8 Sakaro Flute\n",
      "  9 Psychedelic trip to neptune ( 2018 remix )\n"
     ]
    }
   ],
   "source": [
    "tids = []\n",
    "t_names = []\n",
    "for i, t in enumerate(result['tracks']['items']):\n",
    "    print(' ', i, t['name'])\n",
    "    t_names.append(t['name'])\n",
    "    tids.append(t['uri'])"
   ]
  },
  {
   "cell_type": "code",
   "execution_count": 9,
   "metadata": {},
   "outputs": [
    {
     "data": {
      "text/plain": [
       "['Alice in wonderland',\n",
       " 'Sex Drugs Goa Trance',\n",
       " 'The Voice Of The Butterfly',\n",
       " 'Sound of the middle east',\n",
       " 'The Crocodile Come Alive',\n",
       " 'Voice of Butterfly - Vandeta & Ayawaska Remix',\n",
       " 'Chess Game',\n",
       " 'Hippie Logic',\n",
       " 'Sakaro Flute',\n",
       " 'Psychedelic trip to neptune ( 2018 remix )']"
      ]
     },
     "execution_count": 9,
     "metadata": {},
     "output_type": "execute_result"
    }
   ],
   "source": [
    "t_names"
   ]
  },
  {
   "cell_type": "code",
   "execution_count": 10,
   "metadata": {},
   "outputs": [
    {
     "name": "stdout",
     "output_type": "stream",
     "text": [
      "time to get the data =  0.3104417324066162\n"
     ]
    }
   ],
   "source": [
    "start = time.time()\n",
    "features = sp.audio_features(tids)\n",
    "delta = time.time() - start\n",
    "print(\"time to get the data = \",delta)"
   ]
  },
  {
   "cell_type": "code",
   "execution_count": 11,
   "metadata": {},
   "outputs": [
    {
     "data": {
      "text/plain": [
       "10"
      ]
     },
     "execution_count": 11,
     "metadata": {},
     "output_type": "execute_result"
    }
   ],
   "source": [
    "len(features)"
   ]
  },
  {
   "cell_type": "code",
   "execution_count": 12,
   "metadata": {},
   "outputs": [
    {
     "data": {
      "text/plain": [
       "{'danceability': 0.728,\n",
       " 'energy': 0.755,\n",
       " 'key': 7,\n",
       " 'loudness': -8.536,\n",
       " 'mode': 1,\n",
       " 'speechiness': 0.0373,\n",
       " 'acousticness': 0.000451,\n",
       " 'instrumentalness': 0.242,\n",
       " 'liveness': 0.129,\n",
       " 'valence': 0.213,\n",
       " 'tempo': 145.02,\n",
       " 'type': 'audio_features',\n",
       " 'id': '4g72i37zDt6O7GWaq4bSlY',\n",
       " 'uri': 'spotify:track:4g72i37zDt6O7GWaq4bSlY',\n",
       " 'track_href': 'https://api.spotify.com/v1/tracks/4g72i37zDt6O7GWaq4bSlY',\n",
       " 'analysis_url': 'https://api.spotify.com/v1/audio-analysis/4g72i37zDt6O7GWaq4bSlY',\n",
       " 'duration_ms': 453517,\n",
       " 'time_signature': 4}"
      ]
     },
     "execution_count": 12,
     "metadata": {},
     "output_type": "execute_result"
    }
   ],
   "source": [
    "features[0]"
   ]
  },
  {
   "cell_type": "code",
   "execution_count": 13,
   "metadata": {},
   "outputs": [
    {
     "data": {
      "text/plain": [
       "0.728"
      ]
     },
     "execution_count": 13,
     "metadata": {},
     "output_type": "execute_result"
    }
   ],
   "source": [
    "features[0]['danceability']"
   ]
  },
  {
   "cell_type": "markdown",
   "metadata": {},
   "source": [
    "# check about popularity **************************"
   ]
  },
  {
   "cell_type": "code",
   "execution_count": 14,
   "metadata": {},
   "outputs": [],
   "source": [
    "t_popularity = []\n",
    "for track in tids:\n",
    "    pop = sp.track(track)\n",
    "    # pop is a dict with many attributes, we are interested at the moment in popularity\n",
    "    t_popularity.append(pop['popularity'])"
   ]
  },
  {
   "cell_type": "code",
   "execution_count": 15,
   "metadata": {},
   "outputs": [],
   "source": [
    "def get_tracks_features_into_dict(tracks_features):\n",
    "    t_id = []\n",
    "    t_danceability = []\n",
    "    t_energy = []\n",
    "    t_loudness = []\n",
    "    t_speechiness = []\n",
    "    t_acousticness = []\n",
    "    t_instrumentalness = []\n",
    "    t_liveness = []\n",
    "    t_valence = []\n",
    "    t_tempo = []\n",
    "    t_duration_ms = []\n",
    "    for i in range(len(t_names)):\n",
    "        t_id.append(tracks_features[i]['id'])\n",
    "        t_danceability.append(tracks_features[i]['danceability'])\n",
    "        t_energy.append(tracks_features[i]['energy'])\n",
    "        t_loudness.append(tracks_features[i]['loudness'])\n",
    "        t_speechiness.append(tracks_features[i]['speechiness'])\n",
    "        t_acousticness.append(tracks_features[i]['acousticness'])\n",
    "        t_instrumentalness.append(tracks_features[i]['instrumentalness'])\n",
    "        t_liveness.append(tracks_features[i]['liveness'])\n",
    "        t_valence.append(tracks_features[i]['valence'])\n",
    "        t_tempo.append(tracks_features[i]['tempo'])\n",
    "        t_duration_ms.append(tracks_features[i]['duration_ms'])\n",
    "    #create a dictionary    \n",
    "    d = {'id':t_id,\n",
    "         'danceability':t_danceability,\n",
    "         'energy':t_energy,\n",
    "         'loudness':t_loudness,\n",
    "         'speechiness':t_speechiness,\n",
    "         'acousticness':t_acousticness,\n",
    "         'instrumentalness':t_instrumentalness,\n",
    "         'liveness':t_liveness,\n",
    "         'valence':t_valence,\n",
    "         'tempo':t_tempo,\n",
    "         'duration_ms':t_duration_ms\n",
    "    }\n",
    "    \n",
    "    return d"
   ]
  },
  {
   "cell_type": "code",
   "execution_count": 16,
   "metadata": {},
   "outputs": [],
   "source": [
    "songs_features_dict = get_tracks_features_into_dict(features)"
   ]
  },
  {
   "cell_type": "code",
   "execution_count": 17,
   "metadata": {},
   "outputs": [
    {
     "data": {
      "text/plain": [
       "{'id': ['4g72i37zDt6O7GWaq4bSlY',\n",
       "  '0VCB3fiBkzu9mkOM5ggzCC',\n",
       "  '56g9Tk8Jt6KNfcnvfMyZA5',\n",
       "  '0xa1zN8iuQp4hr4gGTAc8i',\n",
       "  '6nSh5PiQiPJoLLuTResyy3',\n",
       "  '17lZq8OoMOSEImRdafIg33',\n",
       "  '48n9OUfIIDyu77ruSzHcgp',\n",
       "  '27yXbkjykK4NlfSsRbV8Mt',\n",
       "  '6mUtNxACmEgBtxk4m4CFT1',\n",
       "  '1f5gQ4WjvjgWokPjtAFPtg'],\n",
       " 'danceability': [0.728,\n",
       "  0.659,\n",
       "  0.648,\n",
       "  0.728,\n",
       "  0.655,\n",
       "  0.594,\n",
       "  0.627,\n",
       "  0.62,\n",
       "  0.674,\n",
       "  0.704],\n",
       " 'energy': [0.755,\n",
       "  0.847,\n",
       "  0.602,\n",
       "  0.839,\n",
       "  0.863,\n",
       "  0.792,\n",
       "  0.931,\n",
       "  0.97,\n",
       "  0.96,\n",
       "  0.912],\n",
       " 'loudness': [-8.536,\n",
       "  -6.175,\n",
       "  -9.565,\n",
       "  -11.479,\n",
       "  -8.949,\n",
       "  -6.686,\n",
       "  -8.652,\n",
       "  -6.935,\n",
       "  -7.197,\n",
       "  -9.436],\n",
       " 'speechiness': [0.0373,\n",
       "  0.0973,\n",
       "  0.045,\n",
       "  0.104,\n",
       "  0.0919,\n",
       "  0.0451,\n",
       "  0.0454,\n",
       "  0.0659,\n",
       "  0.05,\n",
       "  0.0529],\n",
       " 'acousticness': [0.000451,\n",
       "  0.000217,\n",
       "  0.0014,\n",
       "  0.00393,\n",
       "  0.000537,\n",
       "  0.016,\n",
       "  4.93e-05,\n",
       "  0.000299,\n",
       "  0.000205,\n",
       "  0.0119],\n",
       " 'instrumentalness': [0.242,\n",
       "  0.458,\n",
       "  0.755,\n",
       "  0.788,\n",
       "  0.754,\n",
       "  0.805,\n",
       "  0.817,\n",
       "  0.8,\n",
       "  0.74,\n",
       "  0.853],\n",
       " 'liveness': [0.129,\n",
       "  0.104,\n",
       "  0.0998,\n",
       "  0.113,\n",
       "  0.157,\n",
       "  0.0945,\n",
       "  0.635,\n",
       "  0.283,\n",
       "  0.0931,\n",
       "  0.0532],\n",
       " 'valence': [0.213,\n",
       "  0.337,\n",
       "  0.154,\n",
       "  0.118,\n",
       "  0.601,\n",
       "  0.101,\n",
       "  0.701,\n",
       "  0.688,\n",
       "  0.0885,\n",
       "  0.444],\n",
       " 'tempo': [145.02,\n",
       "  145.036,\n",
       "  145.01,\n",
       "  144.986,\n",
       "  144.971,\n",
       "  145.016,\n",
       "  145.01,\n",
       "  141.988,\n",
       "  145.008,\n",
       "  145.004],\n",
       " 'duration_ms': [453517,\n",
       "  523035,\n",
       "  458483,\n",
       "  394345,\n",
       "  446897,\n",
       "  384092,\n",
       "  486621,\n",
       "  517183,\n",
       "  440276,\n",
       "  364138]}"
      ]
     },
     "execution_count": 17,
     "metadata": {},
     "output_type": "execute_result"
    }
   ],
   "source": [
    "songs_features_dict"
   ]
  },
  {
   "cell_type": "markdown",
   "metadata": {},
   "source": [
    "## create dataframe"
   ]
  },
  {
   "cell_type": "code",
   "execution_count": 18,
   "metadata": {},
   "outputs": [
    {
     "data": {
      "text/html": [
       "<div>\n",
       "<style scoped>\n",
       "    .dataframe tbody tr th:only-of-type {\n",
       "        vertical-align: middle;\n",
       "    }\n",
       "\n",
       "    .dataframe tbody tr th {\n",
       "        vertical-align: top;\n",
       "    }\n",
       "\n",
       "    .dataframe thead th {\n",
       "        text-align: right;\n",
       "    }\n",
       "</style>\n",
       "<table border=\"1\" class=\"dataframe\">\n",
       "  <thead>\n",
       "    <tr style=\"text-align: right;\">\n",
       "      <th></th>\n",
       "      <th>id</th>\n",
       "      <th>danceability</th>\n",
       "      <th>energy</th>\n",
       "      <th>loudness</th>\n",
       "      <th>speechiness</th>\n",
       "      <th>acousticness</th>\n",
       "      <th>instrumentalness</th>\n",
       "      <th>liveness</th>\n",
       "      <th>valence</th>\n",
       "      <th>tempo</th>\n",
       "      <th>duration_ms</th>\n",
       "    </tr>\n",
       "  </thead>\n",
       "  <tbody>\n",
       "    <tr>\n",
       "      <th>0</th>\n",
       "      <td>4g72i37zDt6O7GWaq4bSlY</td>\n",
       "      <td>0.728</td>\n",
       "      <td>0.755</td>\n",
       "      <td>-8.536</td>\n",
       "      <td>0.0373</td>\n",
       "      <td>0.000451</td>\n",
       "      <td>0.242</td>\n",
       "      <td>0.1290</td>\n",
       "      <td>0.213</td>\n",
       "      <td>145.020</td>\n",
       "      <td>453517</td>\n",
       "    </tr>\n",
       "    <tr>\n",
       "      <th>1</th>\n",
       "      <td>0VCB3fiBkzu9mkOM5ggzCC</td>\n",
       "      <td>0.659</td>\n",
       "      <td>0.847</td>\n",
       "      <td>-6.175</td>\n",
       "      <td>0.0973</td>\n",
       "      <td>0.000217</td>\n",
       "      <td>0.458</td>\n",
       "      <td>0.1040</td>\n",
       "      <td>0.337</td>\n",
       "      <td>145.036</td>\n",
       "      <td>523035</td>\n",
       "    </tr>\n",
       "    <tr>\n",
       "      <th>2</th>\n",
       "      <td>56g9Tk8Jt6KNfcnvfMyZA5</td>\n",
       "      <td>0.648</td>\n",
       "      <td>0.602</td>\n",
       "      <td>-9.565</td>\n",
       "      <td>0.0450</td>\n",
       "      <td>0.001400</td>\n",
       "      <td>0.755</td>\n",
       "      <td>0.0998</td>\n",
       "      <td>0.154</td>\n",
       "      <td>145.010</td>\n",
       "      <td>458483</td>\n",
       "    </tr>\n",
       "    <tr>\n",
       "      <th>3</th>\n",
       "      <td>0xa1zN8iuQp4hr4gGTAc8i</td>\n",
       "      <td>0.728</td>\n",
       "      <td>0.839</td>\n",
       "      <td>-11.479</td>\n",
       "      <td>0.1040</td>\n",
       "      <td>0.003930</td>\n",
       "      <td>0.788</td>\n",
       "      <td>0.1130</td>\n",
       "      <td>0.118</td>\n",
       "      <td>144.986</td>\n",
       "      <td>394345</td>\n",
       "    </tr>\n",
       "    <tr>\n",
       "      <th>4</th>\n",
       "      <td>6nSh5PiQiPJoLLuTResyy3</td>\n",
       "      <td>0.655</td>\n",
       "      <td>0.863</td>\n",
       "      <td>-8.949</td>\n",
       "      <td>0.0919</td>\n",
       "      <td>0.000537</td>\n",
       "      <td>0.754</td>\n",
       "      <td>0.1570</td>\n",
       "      <td>0.601</td>\n",
       "      <td>144.971</td>\n",
       "      <td>446897</td>\n",
       "    </tr>\n",
       "  </tbody>\n",
       "</table>\n",
       "</div>"
      ],
      "text/plain": [
       "                       id  danceability  energy  loudness  speechiness  \\\n",
       "0  4g72i37zDt6O7GWaq4bSlY         0.728   0.755    -8.536       0.0373   \n",
       "1  0VCB3fiBkzu9mkOM5ggzCC         0.659   0.847    -6.175       0.0973   \n",
       "2  56g9Tk8Jt6KNfcnvfMyZA5         0.648   0.602    -9.565       0.0450   \n",
       "3  0xa1zN8iuQp4hr4gGTAc8i         0.728   0.839   -11.479       0.1040   \n",
       "4  6nSh5PiQiPJoLLuTResyy3         0.655   0.863    -8.949       0.0919   \n",
       "\n",
       "   acousticness  instrumentalness  liveness  valence    tempo  duration_ms  \n",
       "0      0.000451             0.242    0.1290    0.213  145.020       453517  \n",
       "1      0.000217             0.458    0.1040    0.337  145.036       523035  \n",
       "2      0.001400             0.755    0.0998    0.154  145.010       458483  \n",
       "3      0.003930             0.788    0.1130    0.118  144.986       394345  \n",
       "4      0.000537             0.754    0.1570    0.601  144.971       446897  "
      ]
     },
     "execution_count": 18,
     "metadata": {},
     "output_type": "execute_result"
    }
   ],
   "source": [
    "crocoloko_tcca_df = pd.DataFrame(songs_features_dict)\n",
    "crocoloko_tcca_df.head()"
   ]
  },
  {
   "cell_type": "code",
   "execution_count": 19,
   "metadata": {},
   "outputs": [],
   "source": [
    "crocoloko_tcca_df.insert(11, \"popularity\", pd.Series(t_popularity) , True) \n",
    "crocoloko_tcca_df.insert(12, \"track_type\", 'psy' , True)\n",
    "crocoloko_tcca_df = crocoloko_tcca_df.set_index('id')"
   ]
  },
  {
   "cell_type": "code",
   "execution_count": 20,
   "metadata": {},
   "outputs": [
    {
     "data": {
      "text/html": [
       "<div>\n",
       "<style scoped>\n",
       "    .dataframe tbody tr th:only-of-type {\n",
       "        vertical-align: middle;\n",
       "    }\n",
       "\n",
       "    .dataframe tbody tr th {\n",
       "        vertical-align: top;\n",
       "    }\n",
       "\n",
       "    .dataframe thead th {\n",
       "        text-align: right;\n",
       "    }\n",
       "</style>\n",
       "<table border=\"1\" class=\"dataframe\">\n",
       "  <thead>\n",
       "    <tr style=\"text-align: right;\">\n",
       "      <th></th>\n",
       "      <th>danceability</th>\n",
       "      <th>energy</th>\n",
       "      <th>loudness</th>\n",
       "      <th>speechiness</th>\n",
       "      <th>acousticness</th>\n",
       "      <th>instrumentalness</th>\n",
       "      <th>liveness</th>\n",
       "      <th>valence</th>\n",
       "      <th>tempo</th>\n",
       "      <th>duration_ms</th>\n",
       "      <th>popularity</th>\n",
       "      <th>track_type</th>\n",
       "    </tr>\n",
       "    <tr>\n",
       "      <th>id</th>\n",
       "      <th></th>\n",
       "      <th></th>\n",
       "      <th></th>\n",
       "      <th></th>\n",
       "      <th></th>\n",
       "      <th></th>\n",
       "      <th></th>\n",
       "      <th></th>\n",
       "      <th></th>\n",
       "      <th></th>\n",
       "      <th></th>\n",
       "      <th></th>\n",
       "    </tr>\n",
       "  </thead>\n",
       "  <tbody>\n",
       "    <tr>\n",
       "      <th>4g72i37zDt6O7GWaq4bSlY</th>\n",
       "      <td>0.728</td>\n",
       "      <td>0.755</td>\n",
       "      <td>-8.536</td>\n",
       "      <td>0.0373</td>\n",
       "      <td>0.000451</td>\n",
       "      <td>0.242</td>\n",
       "      <td>0.1290</td>\n",
       "      <td>0.2130</td>\n",
       "      <td>145.020</td>\n",
       "      <td>453517</td>\n",
       "      <td>30</td>\n",
       "      <td>psy</td>\n",
       "    </tr>\n",
       "    <tr>\n",
       "      <th>0VCB3fiBkzu9mkOM5ggzCC</th>\n",
       "      <td>0.659</td>\n",
       "      <td>0.847</td>\n",
       "      <td>-6.175</td>\n",
       "      <td>0.0973</td>\n",
       "      <td>0.000217</td>\n",
       "      <td>0.458</td>\n",
       "      <td>0.1040</td>\n",
       "      <td>0.3370</td>\n",
       "      <td>145.036</td>\n",
       "      <td>523035</td>\n",
       "      <td>23</td>\n",
       "      <td>psy</td>\n",
       "    </tr>\n",
       "    <tr>\n",
       "      <th>56g9Tk8Jt6KNfcnvfMyZA5</th>\n",
       "      <td>0.648</td>\n",
       "      <td>0.602</td>\n",
       "      <td>-9.565</td>\n",
       "      <td>0.0450</td>\n",
       "      <td>0.001400</td>\n",
       "      <td>0.755</td>\n",
       "      <td>0.0998</td>\n",
       "      <td>0.1540</td>\n",
       "      <td>145.010</td>\n",
       "      <td>458483</td>\n",
       "      <td>18</td>\n",
       "      <td>psy</td>\n",
       "    </tr>\n",
       "    <tr>\n",
       "      <th>0xa1zN8iuQp4hr4gGTAc8i</th>\n",
       "      <td>0.728</td>\n",
       "      <td>0.839</td>\n",
       "      <td>-11.479</td>\n",
       "      <td>0.1040</td>\n",
       "      <td>0.003930</td>\n",
       "      <td>0.788</td>\n",
       "      <td>0.1130</td>\n",
       "      <td>0.1180</td>\n",
       "      <td>144.986</td>\n",
       "      <td>394345</td>\n",
       "      <td>13</td>\n",
       "      <td>psy</td>\n",
       "    </tr>\n",
       "    <tr>\n",
       "      <th>6nSh5PiQiPJoLLuTResyy3</th>\n",
       "      <td>0.655</td>\n",
       "      <td>0.863</td>\n",
       "      <td>-8.949</td>\n",
       "      <td>0.0919</td>\n",
       "      <td>0.000537</td>\n",
       "      <td>0.754</td>\n",
       "      <td>0.1570</td>\n",
       "      <td>0.6010</td>\n",
       "      <td>144.971</td>\n",
       "      <td>446897</td>\n",
       "      <td>19</td>\n",
       "      <td>psy</td>\n",
       "    </tr>\n",
       "    <tr>\n",
       "      <th>17lZq8OoMOSEImRdafIg33</th>\n",
       "      <td>0.594</td>\n",
       "      <td>0.792</td>\n",
       "      <td>-6.686</td>\n",
       "      <td>0.0451</td>\n",
       "      <td>0.016000</td>\n",
       "      <td>0.805</td>\n",
       "      <td>0.0945</td>\n",
       "      <td>0.1010</td>\n",
       "      <td>145.016</td>\n",
       "      <td>384092</td>\n",
       "      <td>16</td>\n",
       "      <td>psy</td>\n",
       "    </tr>\n",
       "    <tr>\n",
       "      <th>48n9OUfIIDyu77ruSzHcgp</th>\n",
       "      <td>0.627</td>\n",
       "      <td>0.931</td>\n",
       "      <td>-8.652</td>\n",
       "      <td>0.0454</td>\n",
       "      <td>0.000049</td>\n",
       "      <td>0.817</td>\n",
       "      <td>0.6350</td>\n",
       "      <td>0.7010</td>\n",
       "      <td>145.010</td>\n",
       "      <td>486621</td>\n",
       "      <td>6</td>\n",
       "      <td>psy</td>\n",
       "    </tr>\n",
       "    <tr>\n",
       "      <th>27yXbkjykK4NlfSsRbV8Mt</th>\n",
       "      <td>0.620</td>\n",
       "      <td>0.970</td>\n",
       "      <td>-6.935</td>\n",
       "      <td>0.0659</td>\n",
       "      <td>0.000299</td>\n",
       "      <td>0.800</td>\n",
       "      <td>0.2830</td>\n",
       "      <td>0.6880</td>\n",
       "      <td>141.988</td>\n",
       "      <td>517183</td>\n",
       "      <td>9</td>\n",
       "      <td>psy</td>\n",
       "    </tr>\n",
       "    <tr>\n",
       "      <th>6mUtNxACmEgBtxk4m4CFT1</th>\n",
       "      <td>0.674</td>\n",
       "      <td>0.960</td>\n",
       "      <td>-7.197</td>\n",
       "      <td>0.0500</td>\n",
       "      <td>0.000205</td>\n",
       "      <td>0.740</td>\n",
       "      <td>0.0931</td>\n",
       "      <td>0.0885</td>\n",
       "      <td>145.008</td>\n",
       "      <td>440276</td>\n",
       "      <td>7</td>\n",
       "      <td>psy</td>\n",
       "    </tr>\n",
       "    <tr>\n",
       "      <th>1f5gQ4WjvjgWokPjtAFPtg</th>\n",
       "      <td>0.704</td>\n",
       "      <td>0.912</td>\n",
       "      <td>-9.436</td>\n",
       "      <td>0.0529</td>\n",
       "      <td>0.011900</td>\n",
       "      <td>0.853</td>\n",
       "      <td>0.0532</td>\n",
       "      <td>0.4440</td>\n",
       "      <td>145.004</td>\n",
       "      <td>364138</td>\n",
       "      <td>10</td>\n",
       "      <td>psy</td>\n",
       "    </tr>\n",
       "  </tbody>\n",
       "</table>\n",
       "</div>"
      ],
      "text/plain": [
       "                        danceability  energy  loudness  speechiness  \\\n",
       "id                                                                    \n",
       "4g72i37zDt6O7GWaq4bSlY         0.728   0.755    -8.536       0.0373   \n",
       "0VCB3fiBkzu9mkOM5ggzCC         0.659   0.847    -6.175       0.0973   \n",
       "56g9Tk8Jt6KNfcnvfMyZA5         0.648   0.602    -9.565       0.0450   \n",
       "0xa1zN8iuQp4hr4gGTAc8i         0.728   0.839   -11.479       0.1040   \n",
       "6nSh5PiQiPJoLLuTResyy3         0.655   0.863    -8.949       0.0919   \n",
       "17lZq8OoMOSEImRdafIg33         0.594   0.792    -6.686       0.0451   \n",
       "48n9OUfIIDyu77ruSzHcgp         0.627   0.931    -8.652       0.0454   \n",
       "27yXbkjykK4NlfSsRbV8Mt         0.620   0.970    -6.935       0.0659   \n",
       "6mUtNxACmEgBtxk4m4CFT1         0.674   0.960    -7.197       0.0500   \n",
       "1f5gQ4WjvjgWokPjtAFPtg         0.704   0.912    -9.436       0.0529   \n",
       "\n",
       "                        acousticness  instrumentalness  liveness  valence  \\\n",
       "id                                                                          \n",
       "4g72i37zDt6O7GWaq4bSlY      0.000451             0.242    0.1290   0.2130   \n",
       "0VCB3fiBkzu9mkOM5ggzCC      0.000217             0.458    0.1040   0.3370   \n",
       "56g9Tk8Jt6KNfcnvfMyZA5      0.001400             0.755    0.0998   0.1540   \n",
       "0xa1zN8iuQp4hr4gGTAc8i      0.003930             0.788    0.1130   0.1180   \n",
       "6nSh5PiQiPJoLLuTResyy3      0.000537             0.754    0.1570   0.6010   \n",
       "17lZq8OoMOSEImRdafIg33      0.016000             0.805    0.0945   0.1010   \n",
       "48n9OUfIIDyu77ruSzHcgp      0.000049             0.817    0.6350   0.7010   \n",
       "27yXbkjykK4NlfSsRbV8Mt      0.000299             0.800    0.2830   0.6880   \n",
       "6mUtNxACmEgBtxk4m4CFT1      0.000205             0.740    0.0931   0.0885   \n",
       "1f5gQ4WjvjgWokPjtAFPtg      0.011900             0.853    0.0532   0.4440   \n",
       "\n",
       "                          tempo  duration_ms  popularity track_type  \n",
       "id                                                                   \n",
       "4g72i37zDt6O7GWaq4bSlY  145.020       453517          30        psy  \n",
       "0VCB3fiBkzu9mkOM5ggzCC  145.036       523035          23        psy  \n",
       "56g9Tk8Jt6KNfcnvfMyZA5  145.010       458483          18        psy  \n",
       "0xa1zN8iuQp4hr4gGTAc8i  144.986       394345          13        psy  \n",
       "6nSh5PiQiPJoLLuTResyy3  144.971       446897          19        psy  \n",
       "17lZq8OoMOSEImRdafIg33  145.016       384092          16        psy  \n",
       "48n9OUfIIDyu77ruSzHcgp  145.010       486621           6        psy  \n",
       "27yXbkjykK4NlfSsRbV8Mt  141.988       517183           9        psy  \n",
       "6mUtNxACmEgBtxk4m4CFT1  145.008       440276           7        psy  \n",
       "1f5gQ4WjvjgWokPjtAFPtg  145.004       364138          10        psy  "
      ]
     },
     "execution_count": 20,
     "metadata": {},
     "output_type": "execute_result"
    }
   ],
   "source": [
    "crocoloko_tcca_df"
   ]
  },
  {
   "cell_type": "code",
   "execution_count": 21,
   "metadata": {},
   "outputs": [
    {
     "data": {
      "text/html": [
       "<div>\n",
       "<style scoped>\n",
       "    .dataframe tbody tr th:only-of-type {\n",
       "        vertical-align: middle;\n",
       "    }\n",
       "\n",
       "    .dataframe tbody tr th {\n",
       "        vertical-align: top;\n",
       "    }\n",
       "\n",
       "    .dataframe thead th {\n",
       "        text-align: right;\n",
       "    }\n",
       "</style>\n",
       "<table border=\"1\" class=\"dataframe\">\n",
       "  <thead>\n",
       "    <tr style=\"text-align: right;\">\n",
       "      <th></th>\n",
       "      <th>danceability</th>\n",
       "      <th>energy</th>\n",
       "      <th>loudness</th>\n",
       "      <th>speechiness</th>\n",
       "      <th>acousticness</th>\n",
       "      <th>instrumentalness</th>\n",
       "      <th>liveness</th>\n",
       "      <th>valence</th>\n",
       "      <th>tempo</th>\n",
       "      <th>duration_ms</th>\n",
       "      <th>popularity</th>\n",
       "    </tr>\n",
       "  </thead>\n",
       "  <tbody>\n",
       "    <tr>\n",
       "      <th>count</th>\n",
       "      <td>10.000000</td>\n",
       "      <td>10.000000</td>\n",
       "      <td>10.000000</td>\n",
       "      <td>10.000000</td>\n",
       "      <td>10.000000</td>\n",
       "      <td>10.000000</td>\n",
       "      <td>10.000000</td>\n",
       "      <td>10.000000</td>\n",
       "      <td>10.000000</td>\n",
       "      <td>10.000000</td>\n",
       "      <td>10.000000</td>\n",
       "    </tr>\n",
       "    <tr>\n",
       "      <th>mean</th>\n",
       "      <td>0.663700</td>\n",
       "      <td>0.847100</td>\n",
       "      <td>-8.361000</td>\n",
       "      <td>0.063480</td>\n",
       "      <td>0.003499</td>\n",
       "      <td>0.701200</td>\n",
       "      <td>0.176160</td>\n",
       "      <td>0.344550</td>\n",
       "      <td>144.704900</td>\n",
       "      <td>446858.700000</td>\n",
       "      <td>15.100000</td>\n",
       "    </tr>\n",
       "    <tr>\n",
       "      <th>std</th>\n",
       "      <td>0.045287</td>\n",
       "      <td>0.111062</td>\n",
       "      <td>1.624835</td>\n",
       "      <td>0.024910</td>\n",
       "      <td>0.005708</td>\n",
       "      <td>0.194857</td>\n",
       "      <td>0.172644</td>\n",
       "      <td>0.247329</td>\n",
       "      <td>0.954788</td>\n",
       "      <td>53843.630175</td>\n",
       "      <td>7.636899</td>\n",
       "    </tr>\n",
       "    <tr>\n",
       "      <th>min</th>\n",
       "      <td>0.594000</td>\n",
       "      <td>0.602000</td>\n",
       "      <td>-11.479000</td>\n",
       "      <td>0.037300</td>\n",
       "      <td>0.000049</td>\n",
       "      <td>0.242000</td>\n",
       "      <td>0.053200</td>\n",
       "      <td>0.088500</td>\n",
       "      <td>141.988000</td>\n",
       "      <td>364138.000000</td>\n",
       "      <td>6.000000</td>\n",
       "    </tr>\n",
       "    <tr>\n",
       "      <th>25%</th>\n",
       "      <td>0.632250</td>\n",
       "      <td>0.803750</td>\n",
       "      <td>-9.314250</td>\n",
       "      <td>0.045175</td>\n",
       "      <td>0.000237</td>\n",
       "      <td>0.743500</td>\n",
       "      <td>0.095825</td>\n",
       "      <td>0.127000</td>\n",
       "      <td>144.990500</td>\n",
       "      <td>405827.750000</td>\n",
       "      <td>9.250000</td>\n",
       "    </tr>\n",
       "    <tr>\n",
       "      <th>50%</th>\n",
       "      <td>0.657000</td>\n",
       "      <td>0.855000</td>\n",
       "      <td>-8.594000</td>\n",
       "      <td>0.051450</td>\n",
       "      <td>0.000494</td>\n",
       "      <td>0.771500</td>\n",
       "      <td>0.108500</td>\n",
       "      <td>0.275000</td>\n",
       "      <td>145.009000</td>\n",
       "      <td>450207.000000</td>\n",
       "      <td>14.500000</td>\n",
       "    </tr>\n",
       "    <tr>\n",
       "      <th>75%</th>\n",
       "      <td>0.696500</td>\n",
       "      <td>0.926250</td>\n",
       "      <td>-7.000500</td>\n",
       "      <td>0.085400</td>\n",
       "      <td>0.003298</td>\n",
       "      <td>0.803750</td>\n",
       "      <td>0.150000</td>\n",
       "      <td>0.561750</td>\n",
       "      <td>145.014500</td>\n",
       "      <td>479586.500000</td>\n",
       "      <td>18.750000</td>\n",
       "    </tr>\n",
       "    <tr>\n",
       "      <th>max</th>\n",
       "      <td>0.728000</td>\n",
       "      <td>0.970000</td>\n",
       "      <td>-6.175000</td>\n",
       "      <td>0.104000</td>\n",
       "      <td>0.016000</td>\n",
       "      <td>0.853000</td>\n",
       "      <td>0.635000</td>\n",
       "      <td>0.701000</td>\n",
       "      <td>145.036000</td>\n",
       "      <td>523035.000000</td>\n",
       "      <td>30.000000</td>\n",
       "    </tr>\n",
       "  </tbody>\n",
       "</table>\n",
       "</div>"
      ],
      "text/plain": [
       "       danceability     energy   loudness  speechiness  acousticness  \\\n",
       "count     10.000000  10.000000  10.000000    10.000000     10.000000   \n",
       "mean       0.663700   0.847100  -8.361000     0.063480      0.003499   \n",
       "std        0.045287   0.111062   1.624835     0.024910      0.005708   \n",
       "min        0.594000   0.602000 -11.479000     0.037300      0.000049   \n",
       "25%        0.632250   0.803750  -9.314250     0.045175      0.000237   \n",
       "50%        0.657000   0.855000  -8.594000     0.051450      0.000494   \n",
       "75%        0.696500   0.926250  -7.000500     0.085400      0.003298   \n",
       "max        0.728000   0.970000  -6.175000     0.104000      0.016000   \n",
       "\n",
       "       instrumentalness   liveness    valence       tempo    duration_ms  \\\n",
       "count         10.000000  10.000000  10.000000   10.000000      10.000000   \n",
       "mean           0.701200   0.176160   0.344550  144.704900  446858.700000   \n",
       "std            0.194857   0.172644   0.247329    0.954788   53843.630175   \n",
       "min            0.242000   0.053200   0.088500  141.988000  364138.000000   \n",
       "25%            0.743500   0.095825   0.127000  144.990500  405827.750000   \n",
       "50%            0.771500   0.108500   0.275000  145.009000  450207.000000   \n",
       "75%            0.803750   0.150000   0.561750  145.014500  479586.500000   \n",
       "max            0.853000   0.635000   0.701000  145.036000  523035.000000   \n",
       "\n",
       "       popularity  \n",
       "count   10.000000  \n",
       "mean    15.100000  \n",
       "std      7.636899  \n",
       "min      6.000000  \n",
       "25%      9.250000  \n",
       "50%     14.500000  \n",
       "75%     18.750000  \n",
       "max     30.000000  "
      ]
     },
     "execution_count": 21,
     "metadata": {},
     "output_type": "execute_result"
    }
   ],
   "source": [
    "crocoloko_tcca_df.describe()"
   ]
  },
  {
   "cell_type": "markdown",
   "metadata": {},
   "source": [
    "# DISTRIBUTIONS"
   ]
  },
  {
   "cell_type": "code",
   "execution_count": 22,
   "metadata": {},
   "outputs": [],
   "source": [
    "import matplotlib.pyplot as plt\n",
    "import seaborn as sns"
   ]
  },
  {
   "cell_type": "code",
   "execution_count": 23,
   "metadata": {},
   "outputs": [],
   "source": [
    "sns.set()\n",
    "\n",
    "# GET CURRENT SIZE\n",
    "fig_size = plt.rcParams['figure.figsize']"
   ]
  },
  {
   "cell_type": "code",
   "execution_count": 24,
   "metadata": {},
   "outputs": [
    {
     "data": {
      "text/plain": [
       "[6.0, 4.0]"
      ]
     },
     "execution_count": 24,
     "metadata": {},
     "output_type": "execute_result"
    }
   ],
   "source": [
    "fig_size"
   ]
  },
  {
   "cell_type": "code",
   "execution_count": 25,
   "metadata": {},
   "outputs": [],
   "source": [
    "# SET WIDTH AND HEIGHT\n",
    "fig_size[0] = 14\n",
    "fig_size[1] = 9\n",
    "plt.rcParams['figure.figsize'] = fig_size"
   ]
  },
  {
   "cell_type": "markdown",
   "metadata": {},
   "source": [
    "###  duration ms dist"
   ]
  },
  {
   "cell_type": "code",
   "execution_count": 26,
   "metadata": {},
   "outputs": [
    {
     "name": "stderr",
     "output_type": "stream",
     "text": [
      "C:\\Users\\orenz\\Anaconda3\\lib\\site-packages\\scipy\\stats\\stats.py:1713: FutureWarning: Using a non-tuple sequence for multidimensional indexing is deprecated; use `arr[tuple(seq)]` instead of `arr[seq]`. In the future this will be interpreted as an array index, `arr[np.array(seq)]`, which will result either in an error or a different result.\n",
      "  return np.add.reduce(sorted[indexer] * weights, axis=axis) / sumval\n"
     ]
    },
    {
     "data": {
      "text/plain": [
       "Text(0.5,0,'duration_min')"
      ]
     },
     "execution_count": 26,
     "metadata": {},
     "output_type": "execute_result"
    },
    {
     "data": {
      "image/png": "[encoded data removed]",
      "text/plain": [
       "<Figure size 1008x648 with 1 Axes>"
      ]
     },
     "metadata": {},
     "output_type": "display_data"
    }
   ],
   "source": [
    "sns.distplot((crocoloko_tcca_df.duration_ms/1000.0)/60.0)\n",
    "plt.xlabel('duration_min',fontsize=18)"
   ]
  },
  {
   "cell_type": "markdown",
   "metadata": {},
   "source": [
    "### other features distributions"
   ]
  },
  {
   "cell_type": "code",
   "execution_count": 27,
   "metadata": {},
   "outputs": [
    {
     "name": "stderr",
     "output_type": "stream",
     "text": [
      "C:\\Users\\orenz\\Anaconda3\\lib\\site-packages\\scipy\\stats\\stats.py:1713: FutureWarning: Using a non-tuple sequence for multidimensional indexing is deprecated; use `arr[tuple(seq)]` instead of `arr[seq]`. In the future this will be interpreted as an array index, `arr[np.array(seq)]`, which will result either in an error or a different result.\n",
      "  return np.add.reduce(sorted[indexer] * weights, axis=axis) / sumval\n"
     ]
    },
    {
     "data": {
      "image/png": "[encoded data removed]",
      "text/plain": [
       "<Figure size 1008x648 with 9 Axes>"
      ]
     },
     "metadata": {},
     "output_type": "display_data"
    }
   ],
   "source": [
    "plt.subplot(331)\n",
    "sns.distplot(crocoloko_tcca_df.danceability)\n",
    "plt.xlabel('danceability', fontsize=18)\n",
    "\n",
    "plt.subplot(332)\n",
    "sns.distplot(crocoloko_tcca_df.energy)\n",
    "plt.xlabel('energy', fontsize=18)\n",
    "\n",
    "plt.subplot(333)\n",
    "sns.distplot(crocoloko_tcca_df.loudness)\n",
    "plt.xlabel('loudness', fontsize=18)\n",
    "\n",
    "plt.subplot(334)\n",
    "sns.distplot(crocoloko_tcca_df.speechiness)\n",
    "plt.xlabel('speechiness', fontsize=18)\n",
    "\n",
    "plt.subplot(335)\n",
    "sns.distplot(crocoloko_tcca_df.acousticness)\n",
    "plt.xlabel('acousticness', fontsize=18)\n",
    "\n",
    "plt.subplot(336)\n",
    "sns.distplot(crocoloko_tcca_df.instrumentalness)\n",
    "plt.xlabel('instrumentalness', fontsize=18)\n",
    "\n",
    "plt.subplot(337)\n",
    "sns.distplot(crocoloko_tcca_df.liveness)\n",
    "plt.xlabel('liveness', fontsize=18)\n",
    "\n",
    "plt.subplot(338)\n",
    "sns.distplot(crocoloko_tcca_df.valence)\n",
    "plt.xlabel('valence', fontsize=18)\n",
    "\n",
    "plt.subplot(339)\n",
    "sns.distplot(crocoloko_tcca_df.tempo)\n",
    "plt.xlabel('tempo', fontsize=18)\n",
    "\n",
    "plt.tight_layout()\n",
    "plt.show()\n"
   ]
  },
  {
   "cell_type": "code",
   "execution_count": 28,
   "metadata": {},
   "outputs": [],
   "source": [
    "crocoloko_tcca_df.to_csv('crocoloko_tracks_data.csv')"
   ]
  },
  {
   "cell_type": "code",
   "execution_count": null,
   "metadata": {},
   "outputs": [],
   "source": []
  }
 ],
 "metadata": {
  "kernelspec": {
   "display_name": "Python 3",
   "language": "python",
   "name": "python3"
  },
  "language_info": {
   "codemirror_mode": {
    "name": "ipython",
    "version": 3
   },
   "file_extension": ".py",
   "mimetype": "text/x-python",
   "name": "python",
   "nbconvert_exporter": "python",
   "pygments_lexer": "ipython3",
   "version": "3.7.0"
  }
 },
 "nbformat": 4,
 "nbformat_minor": 2
}
