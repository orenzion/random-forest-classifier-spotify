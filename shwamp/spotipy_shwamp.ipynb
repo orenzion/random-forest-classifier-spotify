{
 "cells": [
  {
   "cell_type": "markdown",
   "metadata": {},
   "source": [
    "# shwamp tracks data extract"
   ]
  },
  {
   "cell_type": "code",
   "execution_count": 1,
   "metadata": {},
   "outputs": [],
   "source": [
    "import spotipy\n",
    "import json\n",
    "import time\n",
    "import sys\n",
    "import pandas as pd\n",
    "import numpy as np"
   ]
  },
  {
   "cell_type": "code",
   "execution_count": 2,
   "metadata": {},
   "outputs": [],
   "source": [
    "from spotipy.oauth2 import SpotifyClientCredentials #To access authorised Spotify data\n",
    "client_id = 'e2259109005e4bca90a98a851f042e7e'\n",
    "client_secret = '7a39ee07c96d451298fa86308bd66ae0'"
   ]
  },
  {
   "cell_type": "code",
   "execution_count": 3,
   "metadata": {},
   "outputs": [],
   "source": [
    "client_credentials_manager = SpotifyClientCredentials(client_id=client_id, client_secret=client_secret)\n",
    "sp = spotipy.Spotify(client_credentials_manager=client_credentials_manager) #spotify object to access API"
   ]
  },
  {
   "cell_type": "code",
   "execution_count": 4,
   "metadata": {},
   "outputs": [
    {
     "data": {
      "text/plain": [
       "[{'external_urls': {'spotify': 'https://open.spotify.com/artist/3THH3P5beSW2ckKmjsy8F9'},\n",
       "  'href': 'https://api.spotify.com/v1/artists/3THH3P5beSW2ckKmjsy8F9',\n",
       "  'id': '3THH3P5beSW2ckKmjsy8F9',\n",
       "  'name': 'Shwamp',\n",
       "  'type': 'artist',\n",
       "  'uri': 'spotify:artist:3THH3P5beSW2ckKmjsy8F9'}]"
      ]
     },
     "execution_count": 4,
     "metadata": {},
     "output_type": "execute_result"
    }
   ],
   "source": [
    "name = \"shwamp\" #chosen artist\n",
    "result = sp.search(name) #search query\n",
    "result['tracks']['items'][0]['artists']"
   ]
  },
  {
   "cell_type": "code",
   "execution_count": 5,
   "metadata": {},
   "outputs": [],
   "source": [
    "#Extract Artist's uri\n",
    "artist_uri = result['tracks']['items'][0]['artists'][0]['uri']\n",
    "\n",
    "#Pull all of the artist's albums\n",
    "sp_albums = sp.artist_albums(artist_uri, album_type='album')\n",
    "\n",
    "#Store artist's albums' names' and uris in separate lists\n",
    "album_names = []\n",
    "album_uris = []\n",
    "for i in range(len(sp_albums['items'])):\n",
    "    album_names.append(sp_albums['items'][i]['name'])\n",
    "    album_uris.append(sp_albums['items'][i]['uri'])"
   ]
  },
  {
   "cell_type": "code",
   "execution_count": 6,
   "metadata": {},
   "outputs": [
    {
     "data": {
      "text/plain": [
       "['spotify:album:57e4o7ztEUg6JfIzl6JKtU',\n",
       " 'spotify:album:4O5mCyfJ0CqPetECCYTETE']"
      ]
     },
     "execution_count": 6,
     "metadata": {},
     "output_type": "execute_result"
    }
   ],
   "source": [
    "album_uris"
   ]
  },
  {
   "cell_type": "code",
   "execution_count": 7,
   "metadata": {},
   "outputs": [
    {
     "data": {
      "text/plain": [
       "['Inner Landcape', 'Emergence Unfolding']"
      ]
     },
     "execution_count": 7,
     "metadata": {},
     "output_type": "execute_result"
    }
   ],
   "source": [
    "album_names"
   ]
  },
  {
   "cell_type": "markdown",
   "metadata": {},
   "source": [
    "### get track ids"
   ]
  },
  {
   "cell_type": "code",
   "execution_count": 8,
   "metadata": {},
   "outputs": [
    {
     "name": "stdout",
     "output_type": "stream",
     "text": [
      "  0 Nanogroove For Little Beings\n",
      "  1 Morning Eel\n",
      "  2 Floating Sunrise\n",
      "  3 Glitch Adventure\n",
      "  4 We're Lost\n",
      "  5 Tribecall\n",
      "  6 Stomp Through The Ages\n",
      "  7 Nostromo 2.0\n",
      "  8 The Take Off\n",
      "  9 Dragonfruit\n"
     ]
    }
   ],
   "source": [
    "tids = []\n",
    "t_names = []\n",
    "for i, t in enumerate(result['tracks']['items']):\n",
    "    print(' ', i, t['name'])\n",
    "    t_names.append(t['name'])\n",
    "    tids.append(t['uri'])"
   ]
  },
  {
   "cell_type": "code",
   "execution_count": 9,
   "metadata": {},
   "outputs": [
    {
     "data": {
      "text/plain": [
       "['Nanogroove For Little Beings',\n",
       " 'Morning Eel',\n",
       " 'Floating Sunrise',\n",
       " 'Glitch Adventure',\n",
       " \"We're Lost\",\n",
       " 'Tribecall',\n",
       " 'Stomp Through The Ages',\n",
       " 'Nostromo 2.0',\n",
       " 'The Take Off',\n",
       " 'Dragonfruit']"
      ]
     },
     "execution_count": 9,
     "metadata": {},
     "output_type": "execute_result"
    }
   ],
   "source": [
    "t_names"
   ]
  },
  {
   "cell_type": "code",
   "execution_count": 10,
   "metadata": {},
   "outputs": [
    {
     "name": "stdout",
     "output_type": "stream",
     "text": [
      "time to get the data =  0.3796253204345703\n"
     ]
    }
   ],
   "source": [
    "start = time.time()\n",
    "features = sp.audio_features(tids)\n",
    "delta = time.time() - start\n",
    "print(\"time to get the data = \",delta)"
   ]
  },
  {
   "cell_type": "code",
   "execution_count": 11,
   "metadata": {},
   "outputs": [
    {
     "data": {
      "text/plain": [
       "10"
      ]
     },
     "execution_count": 11,
     "metadata": {},
     "output_type": "execute_result"
    }
   ],
   "source": [
    "len(features)"
   ]
  },
  {
   "cell_type": "code",
   "execution_count": 12,
   "metadata": {},
   "outputs": [
    {
     "data": {
      "text/plain": [
       "{'danceability': 0.74,\n",
       " 'energy': 0.49,\n",
       " 'key': 5,\n",
       " 'loudness': -11.761,\n",
       " 'mode': 0,\n",
       " 'speechiness': 0.0498,\n",
       " 'acousticness': 0.0558,\n",
       " 'instrumentalness': 0.774,\n",
       " 'liveness': 0.236,\n",
       " 'valence': 0.341,\n",
       " 'tempo': 99.992,\n",
       " 'type': 'audio_features',\n",
       " 'id': '57CmGnGJp0yBZBuUPm5qzR',\n",
       " 'uri': 'spotify:track:57CmGnGJp0yBZBuUPm5qzR',\n",
       " 'track_href': 'https://api.spotify.com/v1/tracks/57CmGnGJp0yBZBuUPm5qzR',\n",
       " 'analysis_url': 'https://api.spotify.com/v1/audio-analysis/57CmGnGJp0yBZBuUPm5qzR',\n",
       " 'duration_ms': 319200,\n",
       " 'time_signature': 4}"
      ]
     },
     "execution_count": 12,
     "metadata": {},
     "output_type": "execute_result"
    }
   ],
   "source": [
    "features[0]"
   ]
  },
  {
   "cell_type": "code",
   "execution_count": 13,
   "metadata": {},
   "outputs": [
    {
     "data": {
      "text/plain": [
       "0.74"
      ]
     },
     "execution_count": 13,
     "metadata": {},
     "output_type": "execute_result"
    }
   ],
   "source": [
    "features[0]['danceability']"
   ]
  },
  {
   "cell_type": "markdown",
   "metadata": {},
   "source": [
    "# check about popularity **************************"
   ]
  },
  {
   "cell_type": "code",
   "execution_count": 14,
   "metadata": {},
   "outputs": [],
   "source": [
    "t_popularity = []\n",
    "for track in tids:\n",
    "    pop = sp.track(track)\n",
    "    # pop is a dict with many attributes, we are interested at the moment in popularity\n",
    "    t_popularity.append(pop['popularity'])"
   ]
  },
  {
   "cell_type": "code",
   "execution_count": 15,
   "metadata": {},
   "outputs": [],
   "source": [
    "def get_tracks_features_into_dict(tracks_features):\n",
    "    t_id = []\n",
    "    t_danceability = []\n",
    "    t_energy = []\n",
    "    t_loudness = []\n",
    "    t_speechiness = []\n",
    "    t_acousticness = []\n",
    "    t_instrumentalness = []\n",
    "    t_liveness = []\n",
    "    t_valence = []\n",
    "    t_tempo = []\n",
    "    t_duration_ms = []\n",
    "    for i in range(len(t_names)):\n",
    "        t_id.append(tracks_features[i]['id'])\n",
    "        t_danceability.append(tracks_features[i]['danceability'])\n",
    "        t_energy.append(tracks_features[i]['energy'])\n",
    "        t_loudness.append(tracks_features[i]['loudness'])\n",
    "        t_speechiness.append(tracks_features[i]['speechiness'])\n",
    "        t_acousticness.append(tracks_features[i]['acousticness'])\n",
    "        t_instrumentalness.append(tracks_features[i]['instrumentalness'])\n",
    "        t_liveness.append(tracks_features[i]['liveness'])\n",
    "        t_valence.append(tracks_features[i]['valence'])\n",
    "        t_tempo.append(tracks_features[i]['tempo'])\n",
    "        t_duration_ms.append(tracks_features[i]['duration_ms'])\n",
    "    #create a dictionary    \n",
    "    d = {'id':t_id,\n",
    "         'danceability':t_danceability,\n",
    "         'energy':t_energy,\n",
    "         'loudness':t_loudness,\n",
    "         'speechiness':t_speechiness,\n",
    "         'acousticness':t_acousticness,\n",
    "         'instrumentalness':t_instrumentalness,\n",
    "         'liveness':t_liveness,\n",
    "         'valence':t_valence,\n",
    "         'tempo':t_tempo,\n",
    "         'duration_ms':t_duration_ms\n",
    "    }\n",
    "    \n",
    "    return d"
   ]
  },
  {
   "cell_type": "code",
   "execution_count": 16,
   "metadata": {},
   "outputs": [],
   "source": [
    "songs_features_dict = get_tracks_features_into_dict(features)"
   ]
  },
  {
   "cell_type": "code",
   "execution_count": 17,
   "metadata": {},
   "outputs": [
    {
     "data": {
      "text/plain": [
       "{'id': ['57CmGnGJp0yBZBuUPm5qzR',\n",
       "  '4aPdxg7coOhK1sIOdFoEvz',\n",
       "  '0lKTTBumjYNy3Ympwum22k',\n",
       "  '2TSnuGizgE7r9kVIAWEcRX',\n",
       "  '7DNfdaGjoVx1XsG8ayLK3k',\n",
       "  '1iABfQS7143I480wUwnzuH',\n",
       "  '3yIRo8eyRwq7o8rcGpiw5D',\n",
       "  '50c5dflO4S9S1OwYlovVdG',\n",
       "  '0tejXZ3pnzPJlvNQe2Uzi1',\n",
       "  '6clWHhtijogwoBRxhw3VWR'],\n",
       " 'danceability': [0.74,\n",
       "  0.686,\n",
       "  0.735,\n",
       "  0.751,\n",
       "  0.704,\n",
       "  0.754,\n",
       "  0.807,\n",
       "  0.678,\n",
       "  0.788,\n",
       "  0.604],\n",
       " 'energy': [0.49, 0.571, 0.706, 0.618, 0.57, 0.54, 0.515, 0.417, 0.609, 0.573],\n",
       " 'loudness': [-11.761,\n",
       "  -14.088,\n",
       "  -10.339,\n",
       "  -13.605,\n",
       "  -12.357,\n",
       "  -11.831,\n",
       "  -11.72,\n",
       "  -12.824,\n",
       "  -12.519,\n",
       "  -11.323],\n",
       " 'speechiness': [0.0498,\n",
       "  0.0557,\n",
       "  0.043,\n",
       "  0.0588,\n",
       "  0.0541,\n",
       "  0.0468,\n",
       "  0.0517,\n",
       "  0.0797,\n",
       "  0.0462,\n",
       "  0.042],\n",
       " 'acousticness': [0.0558,\n",
       "  0.0255,\n",
       "  0.206,\n",
       "  0.226,\n",
       "  0.223,\n",
       "  0.126,\n",
       "  0.215,\n",
       "  0.0344,\n",
       "  0.0193,\n",
       "  0.0977],\n",
       " 'instrumentalness': [0.774,\n",
       "  0.754,\n",
       "  0.861,\n",
       "  0.877,\n",
       "  0.873,\n",
       "  0.705,\n",
       "  0.857,\n",
       "  0.842,\n",
       "  0.874,\n",
       "  0.763],\n",
       " 'liveness': [0.236,\n",
       "  0.645,\n",
       "  0.0958,\n",
       "  0.199,\n",
       "  0.0933,\n",
       "  0.121,\n",
       "  0.16,\n",
       "  0.114,\n",
       "  0.0796,\n",
       "  0.0909],\n",
       " 'valence': [0.341,\n",
       "  0.354,\n",
       "  0.118,\n",
       "  0.386,\n",
       "  0.174,\n",
       "  0.185,\n",
       "  0.158,\n",
       "  0.207,\n",
       "  0.0455,\n",
       "  0.145],\n",
       " 'tempo': [99.992,\n",
       "  154.007,\n",
       "  99.997,\n",
       "  99.955,\n",
       "  99.983,\n",
       "  130.016,\n",
       "  115.019,\n",
       "  180.028,\n",
       "  118.013,\n",
       "  168.05],\n",
       " 'duration_ms': [319200,\n",
       "  370909,\n",
       "  403200,\n",
       "  292800,\n",
       "  460800,\n",
       "  302769,\n",
       "  319304,\n",
       "  346000,\n",
       "  292881,\n",
       "  342857]}"
      ]
     },
     "execution_count": 17,
     "metadata": {},
     "output_type": "execute_result"
    }
   ],
   "source": [
    "songs_features_dict"
   ]
  },
  {
   "cell_type": "markdown",
   "metadata": {},
   "source": [
    "## create dataframe"
   ]
  },
  {
   "cell_type": "code",
   "execution_count": 18,
   "metadata": {},
   "outputs": [
    {
     "data": {
      "text/html": [
       "<div>\n",
       "<style scoped>\n",
       "    .dataframe tbody tr th:only-of-type {\n",
       "        vertical-align: middle;\n",
       "    }\n",
       "\n",
       "    .dataframe tbody tr th {\n",
       "        vertical-align: top;\n",
       "    }\n",
       "\n",
       "    .dataframe thead th {\n",
       "        text-align: right;\n",
       "    }\n",
       "</style>\n",
       "<table border=\"1\" class=\"dataframe\">\n",
       "  <thead>\n",
       "    <tr style=\"text-align: right;\">\n",
       "      <th></th>\n",
       "      <th>id</th>\n",
       "      <th>danceability</th>\n",
       "      <th>energy</th>\n",
       "      <th>loudness</th>\n",
       "      <th>speechiness</th>\n",
       "      <th>acousticness</th>\n",
       "      <th>instrumentalness</th>\n",
       "      <th>liveness</th>\n",
       "      <th>valence</th>\n",
       "      <th>tempo</th>\n",
       "      <th>duration_ms</th>\n",
       "    </tr>\n",
       "  </thead>\n",
       "  <tbody>\n",
       "    <tr>\n",
       "      <th>0</th>\n",
       "      <td>57CmGnGJp0yBZBuUPm5qzR</td>\n",
       "      <td>0.740</td>\n",
       "      <td>0.490</td>\n",
       "      <td>-11.761</td>\n",
       "      <td>0.0498</td>\n",
       "      <td>0.0558</td>\n",
       "      <td>0.774</td>\n",
       "      <td>0.2360</td>\n",
       "      <td>0.341</td>\n",
       "      <td>99.992</td>\n",
       "      <td>319200</td>\n",
       "    </tr>\n",
       "    <tr>\n",
       "      <th>1</th>\n",
       "      <td>4aPdxg7coOhK1sIOdFoEvz</td>\n",
       "      <td>0.686</td>\n",
       "      <td>0.571</td>\n",
       "      <td>-14.088</td>\n",
       "      <td>0.0557</td>\n",
       "      <td>0.0255</td>\n",
       "      <td>0.754</td>\n",
       "      <td>0.6450</td>\n",
       "      <td>0.354</td>\n",
       "      <td>154.007</td>\n",
       "      <td>370909</td>\n",
       "    </tr>\n",
       "    <tr>\n",
       "      <th>2</th>\n",
       "      <td>0lKTTBumjYNy3Ympwum22k</td>\n",
       "      <td>0.735</td>\n",
       "      <td>0.706</td>\n",
       "      <td>-10.339</td>\n",
       "      <td>0.0430</td>\n",
       "      <td>0.2060</td>\n",
       "      <td>0.861</td>\n",
       "      <td>0.0958</td>\n",
       "      <td>0.118</td>\n",
       "      <td>99.997</td>\n",
       "      <td>403200</td>\n",
       "    </tr>\n",
       "    <tr>\n",
       "      <th>3</th>\n",
       "      <td>2TSnuGizgE7r9kVIAWEcRX</td>\n",
       "      <td>0.751</td>\n",
       "      <td>0.618</td>\n",
       "      <td>-13.605</td>\n",
       "      <td>0.0588</td>\n",
       "      <td>0.2260</td>\n",
       "      <td>0.877</td>\n",
       "      <td>0.1990</td>\n",
       "      <td>0.386</td>\n",
       "      <td>99.955</td>\n",
       "      <td>292800</td>\n",
       "    </tr>\n",
       "    <tr>\n",
       "      <th>4</th>\n",
       "      <td>7DNfdaGjoVx1XsG8ayLK3k</td>\n",
       "      <td>0.704</td>\n",
       "      <td>0.570</td>\n",
       "      <td>-12.357</td>\n",
       "      <td>0.0541</td>\n",
       "      <td>0.2230</td>\n",
       "      <td>0.873</td>\n",
       "      <td>0.0933</td>\n",
       "      <td>0.174</td>\n",
       "      <td>99.983</td>\n",
       "      <td>460800</td>\n",
       "    </tr>\n",
       "  </tbody>\n",
       "</table>\n",
       "</div>"
      ],
      "text/plain": [
       "                       id  danceability  energy  loudness  speechiness  \\\n",
       "0  57CmGnGJp0yBZBuUPm5qzR         0.740   0.490   -11.761       0.0498   \n",
       "1  4aPdxg7coOhK1sIOdFoEvz         0.686   0.571   -14.088       0.0557   \n",
       "2  0lKTTBumjYNy3Ympwum22k         0.735   0.706   -10.339       0.0430   \n",
       "3  2TSnuGizgE7r9kVIAWEcRX         0.751   0.618   -13.605       0.0588   \n",
       "4  7DNfdaGjoVx1XsG8ayLK3k         0.704   0.570   -12.357       0.0541   \n",
       "\n",
       "   acousticness  instrumentalness  liveness  valence    tempo  duration_ms  \n",
       "0        0.0558             0.774    0.2360    0.341   99.992       319200  \n",
       "1        0.0255             0.754    0.6450    0.354  154.007       370909  \n",
       "2        0.2060             0.861    0.0958    0.118   99.997       403200  \n",
       "3        0.2260             0.877    0.1990    0.386   99.955       292800  \n",
       "4        0.2230             0.873    0.0933    0.174   99.983       460800  "
      ]
     },
     "execution_count": 18,
     "metadata": {},
     "output_type": "execute_result"
    }
   ],
   "source": [
    "df = pd.DataFrame(songs_features_dict)\n",
    "df.head()"
   ]
  },
  {
   "cell_type": "code",
   "execution_count": 19,
   "metadata": {},
   "outputs": [],
   "source": [
    "df.insert(11, \"popularity\", pd.Series(t_popularity) , True) "
   ]
  },
  {
   "cell_type": "code",
   "execution_count": 20,
   "metadata": {},
   "outputs": [],
   "source": [
    "df.insert(12, \"track_type\", 'chill glitch' , True)"
   ]
  },
  {
   "cell_type": "code",
   "execution_count": 21,
   "metadata": {},
   "outputs": [
    {
     "data": {
      "text/html": [
       "<div>\n",
       "<style scoped>\n",
       "    .dataframe tbody tr th:only-of-type {\n",
       "        vertical-align: middle;\n",
       "    }\n",
       "\n",
       "    .dataframe tbody tr th {\n",
       "        vertical-align: top;\n",
       "    }\n",
       "\n",
       "    .dataframe thead th {\n",
       "        text-align: right;\n",
       "    }\n",
       "</style>\n",
       "<table border=\"1\" class=\"dataframe\">\n",
       "  <thead>\n",
       "    <tr style=\"text-align: right;\">\n",
       "      <th></th>\n",
       "      <th>id</th>\n",
       "      <th>danceability</th>\n",
       "      <th>energy</th>\n",
       "      <th>loudness</th>\n",
       "      <th>speechiness</th>\n",
       "      <th>acousticness</th>\n",
       "      <th>instrumentalness</th>\n",
       "      <th>liveness</th>\n",
       "      <th>valence</th>\n",
       "      <th>tempo</th>\n",
       "      <th>duration_ms</th>\n",
       "      <th>popularity</th>\n",
       "      <th>track_type</th>\n",
       "    </tr>\n",
       "  </thead>\n",
       "  <tbody>\n",
       "    <tr>\n",
       "      <th>0</th>\n",
       "      <td>57CmGnGJp0yBZBuUPm5qzR</td>\n",
       "      <td>0.740</td>\n",
       "      <td>0.490</td>\n",
       "      <td>-11.761</td>\n",
       "      <td>0.0498</td>\n",
       "      <td>0.0558</td>\n",
       "      <td>0.774</td>\n",
       "      <td>0.2360</td>\n",
       "      <td>0.3410</td>\n",
       "      <td>99.992</td>\n",
       "      <td>319200</td>\n",
       "      <td>4</td>\n",
       "      <td>chill glitch</td>\n",
       "    </tr>\n",
       "    <tr>\n",
       "      <th>1</th>\n",
       "      <td>4aPdxg7coOhK1sIOdFoEvz</td>\n",
       "      <td>0.686</td>\n",
       "      <td>0.571</td>\n",
       "      <td>-14.088</td>\n",
       "      <td>0.0557</td>\n",
       "      <td>0.0255</td>\n",
       "      <td>0.754</td>\n",
       "      <td>0.6450</td>\n",
       "      <td>0.3540</td>\n",
       "      <td>154.007</td>\n",
       "      <td>370909</td>\n",
       "      <td>5</td>\n",
       "      <td>chill glitch</td>\n",
       "    </tr>\n",
       "    <tr>\n",
       "      <th>2</th>\n",
       "      <td>0lKTTBumjYNy3Ympwum22k</td>\n",
       "      <td>0.735</td>\n",
       "      <td>0.706</td>\n",
       "      <td>-10.339</td>\n",
       "      <td>0.0430</td>\n",
       "      <td>0.2060</td>\n",
       "      <td>0.861</td>\n",
       "      <td>0.0958</td>\n",
       "      <td>0.1180</td>\n",
       "      <td>99.997</td>\n",
       "      <td>403200</td>\n",
       "      <td>3</td>\n",
       "      <td>chill glitch</td>\n",
       "    </tr>\n",
       "    <tr>\n",
       "      <th>3</th>\n",
       "      <td>2TSnuGizgE7r9kVIAWEcRX</td>\n",
       "      <td>0.751</td>\n",
       "      <td>0.618</td>\n",
       "      <td>-13.605</td>\n",
       "      <td>0.0588</td>\n",
       "      <td>0.2260</td>\n",
       "      <td>0.877</td>\n",
       "      <td>0.1990</td>\n",
       "      <td>0.3860</td>\n",
       "      <td>99.955</td>\n",
       "      <td>292800</td>\n",
       "      <td>3</td>\n",
       "      <td>chill glitch</td>\n",
       "    </tr>\n",
       "    <tr>\n",
       "      <th>4</th>\n",
       "      <td>7DNfdaGjoVx1XsG8ayLK3k</td>\n",
       "      <td>0.704</td>\n",
       "      <td>0.570</td>\n",
       "      <td>-12.357</td>\n",
       "      <td>0.0541</td>\n",
       "      <td>0.2230</td>\n",
       "      <td>0.873</td>\n",
       "      <td>0.0933</td>\n",
       "      <td>0.1740</td>\n",
       "      <td>99.983</td>\n",
       "      <td>460800</td>\n",
       "      <td>3</td>\n",
       "      <td>chill glitch</td>\n",
       "    </tr>\n",
       "    <tr>\n",
       "      <th>5</th>\n",
       "      <td>1iABfQS7143I480wUwnzuH</td>\n",
       "      <td>0.754</td>\n",
       "      <td>0.540</td>\n",
       "      <td>-11.831</td>\n",
       "      <td>0.0468</td>\n",
       "      <td>0.1260</td>\n",
       "      <td>0.705</td>\n",
       "      <td>0.1210</td>\n",
       "      <td>0.1850</td>\n",
       "      <td>130.016</td>\n",
       "      <td>302769</td>\n",
       "      <td>2</td>\n",
       "      <td>chill glitch</td>\n",
       "    </tr>\n",
       "    <tr>\n",
       "      <th>6</th>\n",
       "      <td>3yIRo8eyRwq7o8rcGpiw5D</td>\n",
       "      <td>0.807</td>\n",
       "      <td>0.515</td>\n",
       "      <td>-11.720</td>\n",
       "      <td>0.0517</td>\n",
       "      <td>0.2150</td>\n",
       "      <td>0.857</td>\n",
       "      <td>0.1600</td>\n",
       "      <td>0.1580</td>\n",
       "      <td>115.019</td>\n",
       "      <td>319304</td>\n",
       "      <td>5</td>\n",
       "      <td>chill glitch</td>\n",
       "    </tr>\n",
       "    <tr>\n",
       "      <th>7</th>\n",
       "      <td>50c5dflO4S9S1OwYlovVdG</td>\n",
       "      <td>0.678</td>\n",
       "      <td>0.417</td>\n",
       "      <td>-12.824</td>\n",
       "      <td>0.0797</td>\n",
       "      <td>0.0344</td>\n",
       "      <td>0.842</td>\n",
       "      <td>0.1140</td>\n",
       "      <td>0.2070</td>\n",
       "      <td>180.028</td>\n",
       "      <td>346000</td>\n",
       "      <td>4</td>\n",
       "      <td>chill glitch</td>\n",
       "    </tr>\n",
       "    <tr>\n",
       "      <th>8</th>\n",
       "      <td>0tejXZ3pnzPJlvNQe2Uzi1</td>\n",
       "      <td>0.788</td>\n",
       "      <td>0.609</td>\n",
       "      <td>-12.519</td>\n",
       "      <td>0.0462</td>\n",
       "      <td>0.0193</td>\n",
       "      <td>0.874</td>\n",
       "      <td>0.0796</td>\n",
       "      <td>0.0455</td>\n",
       "      <td>118.013</td>\n",
       "      <td>292881</td>\n",
       "      <td>4</td>\n",
       "      <td>chill glitch</td>\n",
       "    </tr>\n",
       "    <tr>\n",
       "      <th>9</th>\n",
       "      <td>6clWHhtijogwoBRxhw3VWR</td>\n",
       "      <td>0.604</td>\n",
       "      <td>0.573</td>\n",
       "      <td>-11.323</td>\n",
       "      <td>0.0420</td>\n",
       "      <td>0.0977</td>\n",
       "      <td>0.763</td>\n",
       "      <td>0.0909</td>\n",
       "      <td>0.1450</td>\n",
       "      <td>168.050</td>\n",
       "      <td>342857</td>\n",
       "      <td>4</td>\n",
       "      <td>chill glitch</td>\n",
       "    </tr>\n",
       "  </tbody>\n",
       "</table>\n",
       "</div>"
      ],
      "text/plain": [
       "                       id  danceability  energy  loudness  speechiness  \\\n",
       "0  57CmGnGJp0yBZBuUPm5qzR         0.740   0.490   -11.761       0.0498   \n",
       "1  4aPdxg7coOhK1sIOdFoEvz         0.686   0.571   -14.088       0.0557   \n",
       "2  0lKTTBumjYNy3Ympwum22k         0.735   0.706   -10.339       0.0430   \n",
       "3  2TSnuGizgE7r9kVIAWEcRX         0.751   0.618   -13.605       0.0588   \n",
       "4  7DNfdaGjoVx1XsG8ayLK3k         0.704   0.570   -12.357       0.0541   \n",
       "5  1iABfQS7143I480wUwnzuH         0.754   0.540   -11.831       0.0468   \n",
       "6  3yIRo8eyRwq7o8rcGpiw5D         0.807   0.515   -11.720       0.0517   \n",
       "7  50c5dflO4S9S1OwYlovVdG         0.678   0.417   -12.824       0.0797   \n",
       "8  0tejXZ3pnzPJlvNQe2Uzi1         0.788   0.609   -12.519       0.0462   \n",
       "9  6clWHhtijogwoBRxhw3VWR         0.604   0.573   -11.323       0.0420   \n",
       "\n",
       "   acousticness  instrumentalness  liveness  valence    tempo  duration_ms  \\\n",
       "0        0.0558             0.774    0.2360   0.3410   99.992       319200   \n",
       "1        0.0255             0.754    0.6450   0.3540  154.007       370909   \n",
       "2        0.2060             0.861    0.0958   0.1180   99.997       403200   \n",
       "3        0.2260             0.877    0.1990   0.3860   99.955       292800   \n",
       "4        0.2230             0.873    0.0933   0.1740   99.983       460800   \n",
       "5        0.1260             0.705    0.1210   0.1850  130.016       302769   \n",
       "6        0.2150             0.857    0.1600   0.1580  115.019       319304   \n",
       "7        0.0344             0.842    0.1140   0.2070  180.028       346000   \n",
       "8        0.0193             0.874    0.0796   0.0455  118.013       292881   \n",
       "9        0.0977             0.763    0.0909   0.1450  168.050       342857   \n",
       "\n",
       "   popularity    track_type  \n",
       "0           4  chill glitch  \n",
       "1           5  chill glitch  \n",
       "2           3  chill glitch  \n",
       "3           3  chill glitch  \n",
       "4           3  chill glitch  \n",
       "5           2  chill glitch  \n",
       "6           5  chill glitch  \n",
       "7           4  chill glitch  \n",
       "8           4  chill glitch  \n",
       "9           4  chill glitch  "
      ]
     },
     "execution_count": 21,
     "metadata": {},
     "output_type": "execute_result"
    }
   ],
   "source": [
    "df"
   ]
  },
  {
   "cell_type": "code",
   "execution_count": 22,
   "metadata": {},
   "outputs": [
    {
     "data": {
      "text/html": [
       "<div>\n",
       "<style scoped>\n",
       "    .dataframe tbody tr th:only-of-type {\n",
       "        vertical-align: middle;\n",
       "    }\n",
       "\n",
       "    .dataframe tbody tr th {\n",
       "        vertical-align: top;\n",
       "    }\n",
       "\n",
       "    .dataframe thead th {\n",
       "        text-align: right;\n",
       "    }\n",
       "</style>\n",
       "<table border=\"1\" class=\"dataframe\">\n",
       "  <thead>\n",
       "    <tr style=\"text-align: right;\">\n",
       "      <th></th>\n",
       "      <th>danceability</th>\n",
       "      <th>energy</th>\n",
       "      <th>loudness</th>\n",
       "      <th>speechiness</th>\n",
       "      <th>acousticness</th>\n",
       "      <th>instrumentalness</th>\n",
       "      <th>liveness</th>\n",
       "      <th>valence</th>\n",
       "      <th>tempo</th>\n",
       "      <th>duration_ms</th>\n",
       "      <th>popularity</th>\n",
       "    </tr>\n",
       "  </thead>\n",
       "  <tbody>\n",
       "    <tr>\n",
       "      <th>count</th>\n",
       "      <td>10.000000</td>\n",
       "      <td>10.000000</td>\n",
       "      <td>10.000000</td>\n",
       "      <td>10.000000</td>\n",
       "      <td>10.00000</td>\n",
       "      <td>10.000000</td>\n",
       "      <td>10.000000</td>\n",
       "      <td>10.00000</td>\n",
       "      <td>10.000000</td>\n",
       "      <td>10.000000</td>\n",
       "      <td>10.000000</td>\n",
       "    </tr>\n",
       "    <tr>\n",
       "      <th>mean</th>\n",
       "      <td>0.724700</td>\n",
       "      <td>0.560900</td>\n",
       "      <td>-12.236700</td>\n",
       "      <td>0.052780</td>\n",
       "      <td>0.12287</td>\n",
       "      <td>0.818000</td>\n",
       "      <td>0.183460</td>\n",
       "      <td>0.21135</td>\n",
       "      <td>126.506000</td>\n",
       "      <td>345072.000000</td>\n",
       "      <td>3.700000</td>\n",
       "    </tr>\n",
       "    <tr>\n",
       "      <th>std</th>\n",
       "      <td>0.059016</td>\n",
       "      <td>0.078342</td>\n",
       "      <td>1.097098</td>\n",
       "      <td>0.010915</td>\n",
       "      <td>0.08771</td>\n",
       "      <td>0.062729</td>\n",
       "      <td>0.170119</td>\n",
       "      <td>0.11217</td>\n",
       "      <td>30.509307</td>\n",
       "      <td>53773.505277</td>\n",
       "      <td>0.948683</td>\n",
       "    </tr>\n",
       "    <tr>\n",
       "      <th>min</th>\n",
       "      <td>0.604000</td>\n",
       "      <td>0.417000</td>\n",
       "      <td>-14.088000</td>\n",
       "      <td>0.042000</td>\n",
       "      <td>0.01930</td>\n",
       "      <td>0.705000</td>\n",
       "      <td>0.079600</td>\n",
       "      <td>0.04550</td>\n",
       "      <td>99.955000</td>\n",
       "      <td>292800.000000</td>\n",
       "      <td>2.000000</td>\n",
       "    </tr>\n",
       "    <tr>\n",
       "      <th>25%</th>\n",
       "      <td>0.690500</td>\n",
       "      <td>0.521250</td>\n",
       "      <td>-12.747750</td>\n",
       "      <td>0.046350</td>\n",
       "      <td>0.03975</td>\n",
       "      <td>0.765750</td>\n",
       "      <td>0.093925</td>\n",
       "      <td>0.14825</td>\n",
       "      <td>99.993250</td>\n",
       "      <td>306876.750000</td>\n",
       "      <td>3.000000</td>\n",
       "    </tr>\n",
       "    <tr>\n",
       "      <th>50%</th>\n",
       "      <td>0.737500</td>\n",
       "      <td>0.570500</td>\n",
       "      <td>-12.094000</td>\n",
       "      <td>0.050750</td>\n",
       "      <td>0.11185</td>\n",
       "      <td>0.849500</td>\n",
       "      <td>0.117500</td>\n",
       "      <td>0.17950</td>\n",
       "      <td>116.516000</td>\n",
       "      <td>331080.500000</td>\n",
       "      <td>4.000000</td>\n",
       "    </tr>\n",
       "    <tr>\n",
       "      <th>75%</th>\n",
       "      <td>0.753250</td>\n",
       "      <td>0.600000</td>\n",
       "      <td>-11.730250</td>\n",
       "      <td>0.055300</td>\n",
       "      <td>0.21275</td>\n",
       "      <td>0.870000</td>\n",
       "      <td>0.189250</td>\n",
       "      <td>0.30750</td>\n",
       "      <td>148.009250</td>\n",
       "      <td>364681.750000</td>\n",
       "      <td>4.000000</td>\n",
       "    </tr>\n",
       "    <tr>\n",
       "      <th>max</th>\n",
       "      <td>0.807000</td>\n",
       "      <td>0.706000</td>\n",
       "      <td>-10.339000</td>\n",
       "      <td>0.079700</td>\n",
       "      <td>0.22600</td>\n",
       "      <td>0.877000</td>\n",
       "      <td>0.645000</td>\n",
       "      <td>0.38600</td>\n",
       "      <td>180.028000</td>\n",
       "      <td>460800.000000</td>\n",
       "      <td>5.000000</td>\n",
       "    </tr>\n",
       "  </tbody>\n",
       "</table>\n",
       "</div>"
      ],
      "text/plain": [
       "       danceability     energy   loudness  speechiness  acousticness  \\\n",
       "count     10.000000  10.000000  10.000000    10.000000      10.00000   \n",
       "mean       0.724700   0.560900 -12.236700     0.052780       0.12287   \n",
       "std        0.059016   0.078342   1.097098     0.010915       0.08771   \n",
       "min        0.604000   0.417000 -14.088000     0.042000       0.01930   \n",
       "25%        0.690500   0.521250 -12.747750     0.046350       0.03975   \n",
       "50%        0.737500   0.570500 -12.094000     0.050750       0.11185   \n",
       "75%        0.753250   0.600000 -11.730250     0.055300       0.21275   \n",
       "max        0.807000   0.706000 -10.339000     0.079700       0.22600   \n",
       "\n",
       "       instrumentalness   liveness   valence       tempo    duration_ms  \\\n",
       "count         10.000000  10.000000  10.00000   10.000000      10.000000   \n",
       "mean           0.818000   0.183460   0.21135  126.506000  345072.000000   \n",
       "std            0.062729   0.170119   0.11217   30.509307   53773.505277   \n",
       "min            0.705000   0.079600   0.04550   99.955000  292800.000000   \n",
       "25%            0.765750   0.093925   0.14825   99.993250  306876.750000   \n",
       "50%            0.849500   0.117500   0.17950  116.516000  331080.500000   \n",
       "75%            0.870000   0.189250   0.30750  148.009250  364681.750000   \n",
       "max            0.877000   0.645000   0.38600  180.028000  460800.000000   \n",
       "\n",
       "       popularity  \n",
       "count   10.000000  \n",
       "mean     3.700000  \n",
       "std      0.948683  \n",
       "min      2.000000  \n",
       "25%      3.000000  \n",
       "50%      4.000000  \n",
       "75%      4.000000  \n",
       "max      5.000000  "
      ]
     },
     "execution_count": 22,
     "metadata": {},
     "output_type": "execute_result"
    }
   ],
   "source": [
    "df.describe()"
   ]
  },
  {
   "cell_type": "markdown",
   "metadata": {},
   "source": [
    "# DISTRIBUTIONS"
   ]
  },
  {
   "cell_type": "code",
   "execution_count": 23,
   "metadata": {},
   "outputs": [],
   "source": [
    "import matplotlib.pyplot as plt\n",
    "import seaborn as sns"
   ]
  },
  {
   "cell_type": "code",
   "execution_count": 24,
   "metadata": {},
   "outputs": [],
   "source": [
    "sns.set()\n",
    "\n",
    "# GET CURRENT SIZE\n",
    "fig_size = plt.rcParams['figure.figsize']"
   ]
  },
  {
   "cell_type": "code",
   "execution_count": 25,
   "metadata": {},
   "outputs": [
    {
     "data": {
      "text/plain": [
       "[6.0, 4.0]"
      ]
     },
     "execution_count": 25,
     "metadata": {},
     "output_type": "execute_result"
    }
   ],
   "source": [
    "fig_size"
   ]
  },
  {
   "cell_type": "code",
   "execution_count": 26,
   "metadata": {},
   "outputs": [],
   "source": [
    "# SET WIDTH AND HEIGHT\n",
    "fig_size[0] = 14\n",
    "fig_size[1] = 9\n",
    "plt.rcParams['figure.figsize'] = fig_size"
   ]
  },
  {
   "cell_type": "markdown",
   "metadata": {},
   "source": [
    "###  duration ms dist"
   ]
  },
  {
   "cell_type": "code",
   "execution_count": 27,
   "metadata": {},
   "outputs": [
    {
     "name": "stderr",
     "output_type": "stream",
     "text": [
      "C:\\Users\\orenz\\Anaconda3\\lib\\site-packages\\scipy\\stats\\stats.py:1713: FutureWarning: Using a non-tuple sequence for multidimensional indexing is deprecated; use `arr[tuple(seq)]` instead of `arr[seq]`. In the future this will be interpreted as an array index, `arr[np.array(seq)]`, which will result either in an error or a different result.\n",
      "  return np.add.reduce(sorted[indexer] * weights, axis=axis) / sumval\n"
     ]
    },
    {
     "data": {
      "text/plain": [
       "Text(0.5,0,'duration_min')"
      ]
     },
     "execution_count": 27,
     "metadata": {},
     "output_type": "execute_result"
    },
    {
     "data": {
      "image/png": "[encoded data removed]",
      "text/plain": [
       "<Figure size 1008x648 with 1 Axes>"
      ]
     },
     "metadata": {},
     "output_type": "display_data"
    }
   ],
   "source": [
    "sns.distplot((df.duration_ms/1000.0)/60.0)\n",
    "plt.xlabel('duration_min',fontsize=18)"
   ]
  },
  {
   "cell_type": "markdown",
   "metadata": {},
   "source": [
    "### other features distributions"
   ]
  },
  {
   "cell_type": "code",
   "execution_count": 28,
   "metadata": {},
   "outputs": [
    {
     "name": "stderr",
     "output_type": "stream",
     "text": [
      "C:\\Users\\orenz\\Anaconda3\\lib\\site-packages\\scipy\\stats\\stats.py:1713: FutureWarning: Using a non-tuple sequence for multidimensional indexing is deprecated; use `arr[tuple(seq)]` instead of `arr[seq]`. In the future this will be interpreted as an array index, `arr[np.array(seq)]`, which will result either in an error or a different result.\n",
      "  return np.add.reduce(sorted[indexer] * weights, axis=axis) / sumval\n"
     ]
    },
    {
     "data": {
      "image/png": "[encoded data removed]",
      "text/plain": [
       "<Figure size 1008x648 with 9 Axes>"
      ]
     },
     "metadata": {},
     "output_type": "display_data"
    }
   ],
   "source": [
    "plt.subplot(331)\n",
    "sns.distplot(df.danceability)\n",
    "plt.xlabel('danceability', fontsize=18)\n",
    "\n",
    "plt.subplot(332)\n",
    "sns.distplot(df.energy)\n",
    "plt.xlabel('energy', fontsize=18)\n",
    "\n",
    "plt.subplot(333)\n",
    "sns.distplot(df.loudness)\n",
    "plt.xlabel('loudness', fontsize=18)\n",
    "\n",
    "plt.subplot(334)\n",
    "sns.distplot(df.speechiness)\n",
    "plt.xlabel('speechiness', fontsize=18)\n",
    "\n",
    "plt.subplot(335)\n",
    "sns.distplot(df.acousticness)\n",
    "plt.xlabel('acousticness', fontsize=18)\n",
    "\n",
    "plt.subplot(336)\n",
    "sns.distplot(df.instrumentalness)\n",
    "plt.xlabel('instrumentalness', fontsize=18)\n",
    "\n",
    "plt.subplot(337)\n",
    "sns.distplot(df.liveness)\n",
    "plt.xlabel('liveness', fontsize=18)\n",
    "\n",
    "plt.subplot(338)\n",
    "sns.distplot(df.valence)\n",
    "plt.xlabel('valence', fontsize=18)\n",
    "\n",
    "plt.subplot(339)\n",
    "sns.distplot(df.tempo)\n",
    "plt.xlabel('tempo', fontsize=18)\n",
    "\n",
    "plt.tight_layout()\n",
    "plt.show()\n"
   ]
  },
  {
   "cell_type": "code",
   "execution_count": 29,
   "metadata": {},
   "outputs": [],
   "source": [
    "df.to_csv('shwamp_tracks_data.csv')"
   ]
  },
  {
   "cell_type": "code",
   "execution_count": null,
   "metadata": {},
   "outputs": [],
   "source": []
  }
 ],
 "metadata": {
  "kernelspec": {
   "display_name": "Python 3",
   "language": "python",
   "name": "python3"
  },
  "language_info": {
   "codemirror_mode": {
    "name": "ipython",
    "version": 3
   },
   "file_extension": ".py",
   "mimetype": "text/x-python",
   "name": "python",
   "nbconvert_exporter": "python",
   "pygments_lexer": "ipython3",
   "version": "3.7.0"
  }
 },
 "nbformat": 4,
 "nbformat_minor": 2
}
