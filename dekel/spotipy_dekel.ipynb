{
 "cells": [
  {
   "cell_type": "markdown",
   "metadata": {},
   "source": [
    "# dekel tracks data extract"
   ]
  },
  {
   "cell_type": "code",
   "execution_count": 1,
   "metadata": {},
   "outputs": [],
   "source": [
    "import spotipy\n",
    "import json\n",
    "import time\n",
    "import sys\n",
    "import pandas as pd\n",
    "import numpy as np"
   ]
  },
  {
   "cell_type": "code",
   "execution_count": 2,
   "metadata": {},
   "outputs": [],
   "source": [
    "from spotipy.oauth2 import SpotifyClientCredentials #To access authorised Spotify data\n",
    "client_id = 'e2259109005e4bca90a98a851f042e7e'\n",
    "client_secret = '7a39ee07c96d451298fa86308bd66ae0'"
   ]
  },
  {
   "cell_type": "code",
   "execution_count": 3,
   "metadata": {},
   "outputs": [],
   "source": [
    "client_credentials_manager = SpotifyClientCredentials(client_id=client_id, client_secret=client_secret)\n",
    "sp = spotipy.Spotify(client_credentials_manager=client_credentials_manager) #spotify object to access API"
   ]
  },
  {
   "cell_type": "code",
   "execution_count": 4,
   "metadata": {},
   "outputs": [
    {
     "data": {
      "text/plain": [
       "[{'external_urls': {'spotify': 'https://open.spotify.com/artist/5xnZNDl118VvPTvthujxpx'},\n",
       "  'href': 'https://api.spotify.com/v1/artists/5xnZNDl118VvPTvthujxpx',\n",
       "  'id': '5xnZNDl118VvPTvthujxpx',\n",
       "  'name': 'Captain Hook',\n",
       "  'type': 'artist',\n",
       "  'uri': 'spotify:artist:5xnZNDl118VvPTvthujxpx'},\n",
       " {'external_urls': {'spotify': 'https://open.spotify.com/artist/5QjwI21mbWUU3uiWtjM6Lc'},\n",
       "  'href': 'https://api.spotify.com/v1/artists/5QjwI21mbWUU3uiWtjM6Lc',\n",
       "  'id': '5QjwI21mbWUU3uiWtjM6Lc',\n",
       "  'name': 'Dekel',\n",
       "  'type': 'artist',\n",
       "  'uri': 'spotify:artist:5QjwI21mbWUU3uiWtjM6Lc'}]"
      ]
     },
     "execution_count": 4,
     "metadata": {},
     "output_type": "execute_result"
    }
   ],
   "source": [
    "name = \"dekel\" #chosen artist\n",
    "result = sp.search(name) #search query\n",
    "result['tracks']['items'][0]['artists']"
   ]
  },
  {
   "cell_type": "code",
   "execution_count": 5,
   "metadata": {},
   "outputs": [],
   "source": [
    "#Extract Artist's uri\n",
    "artist_uri = 'spotify:artist:5QjwI21mbWUU3uiWtjM6Lc'\n",
    "\n",
    "#Pull all of the artist's albums\n",
    "sp_albums = sp.artist_albums(artist_uri, album_type='album')\n",
    "\n",
    "#Store artist's albums' names' and uris in separate lists\n",
    "album_names = []\n",
    "album_uris = []\n",
    "for i in range(len(sp_albums['items'])):\n",
    "    album_names.append(sp_albums['items'][i]['name'])\n",
    "    album_uris.append(sp_albums['items'][i]['uri'])"
   ]
  },
  {
   "cell_type": "code",
   "execution_count": 6,
   "metadata": {},
   "outputs": [
    {
     "data": {
      "text/plain": [
       "[]"
      ]
     },
     "execution_count": 6,
     "metadata": {},
     "output_type": "execute_result"
    }
   ],
   "source": [
    "album_uris"
   ]
  },
  {
   "cell_type": "code",
   "execution_count": 7,
   "metadata": {},
   "outputs": [
    {
     "data": {
      "text/plain": [
       "[]"
      ]
     },
     "execution_count": 7,
     "metadata": {},
     "output_type": "execute_result"
    }
   ],
   "source": [
    "album_names"
   ]
  },
  {
   "cell_type": "markdown",
   "metadata": {},
   "source": [
    "### get tracks ids"
   ]
  },
  {
   "cell_type": "code",
   "execution_count": 8,
   "metadata": {},
   "outputs": [
    {
     "name": "stdout",
     "output_type": "stream",
     "text": [
      "  0 The Power of Now - Dekel Remix\n",
      "  1 No More Blues\n",
      "  2 Dekel v rejvu\n",
      "  3 Clear\n",
      "  4 Technoaid\n",
      "  5 Magneto\n",
      "  6 Very Light Blue feat. Elran Dekel\n",
      "  7 Odjebaný Dekel\n",
      "  8 Raindrop\n",
      "  9 You Don't Know What Love Is\n"
     ]
    }
   ],
   "source": [
    "tids = []\n",
    "t_names = []\n",
    "for i, t in enumerate(result['tracks']['items']):\n",
    "    print(' ', i, t['name'])\n",
    "    t_names.append(t['name'])\n",
    "    tids.append(t['uri'])"
   ]
  },
  {
   "cell_type": "code",
   "execution_count": 9,
   "metadata": {},
   "outputs": [
    {
     "data": {
      "text/plain": [
       "['The Power of Now - Dekel Remix',\n",
       " 'No More Blues',\n",
       " 'Dekel v rejvu',\n",
       " 'Clear',\n",
       " 'Technoaid',\n",
       " 'Magneto',\n",
       " 'Very Light Blue feat. Elran Dekel',\n",
       " 'Odjebaný Dekel',\n",
       " 'Raindrop',\n",
       " \"You Don't Know What Love Is\"]"
      ]
     },
     "execution_count": 9,
     "metadata": {},
     "output_type": "execute_result"
    }
   ],
   "source": [
    "t_names"
   ]
  },
  {
   "cell_type": "code",
   "execution_count": 10,
   "metadata": {},
   "outputs": [
    {
     "data": {
      "text/plain": [
       "['spotify:track:7rDhAqoPJ6gjbMhFO8QlBn',\n",
       " 'spotify:track:5ysVy4xs1qyMqfYOKEh6Qh',\n",
       " 'spotify:track:4mX3gf4UAE2joPcVvy57dB',\n",
       " 'spotify:track:2JxBciAF6Vg15pdIgUJ1g6',\n",
       " 'spotify:track:5JpJA7Pvrt96dMdfX0fViA',\n",
       " 'spotify:track:7JkZzoSGyeImBpwZZEMd5i']"
      ]
     },
     "execution_count": 10,
     "metadata": {},
     "output_type": "execute_result"
    }
   ],
   "source": [
    "t_names = t_names[:6]\n",
    "tids = tids[:6]\n",
    "\n",
    "t_names\n",
    "tids"
   ]
  },
  {
   "cell_type": "code",
   "execution_count": 11,
   "metadata": {},
   "outputs": [
    {
     "name": "stdout",
     "output_type": "stream",
     "text": [
      "time to get the data =  0.2973513603210449\n"
     ]
    }
   ],
   "source": [
    "start = time.time()\n",
    "features = sp.audio_features(tids)\n",
    "delta = time.time() - start\n",
    "print(\"time to get the data = \",delta)"
   ]
  },
  {
   "cell_type": "code",
   "execution_count": 12,
   "metadata": {},
   "outputs": [
    {
     "data": {
      "text/plain": [
       "6"
      ]
     },
     "execution_count": 12,
     "metadata": {},
     "output_type": "execute_result"
    }
   ],
   "source": [
    "len(features)"
   ]
  },
  {
   "cell_type": "code",
   "execution_count": 13,
   "metadata": {},
   "outputs": [
    {
     "data": {
      "text/plain": [
       "{'danceability': 0.704,\n",
       " 'energy': 0.773,\n",
       " 'key': 7,\n",
       " 'loudness': -9.525,\n",
       " 'mode': 1,\n",
       " 'speechiness': 0.0429,\n",
       " 'acousticness': 0.00332,\n",
       " 'instrumentalness': 0.877,\n",
       " 'liveness': 0.107,\n",
       " 'valence': 0.377,\n",
       " 'tempo': 136.995,\n",
       " 'type': 'audio_features',\n",
       " 'id': '7rDhAqoPJ6gjbMhFO8QlBn',\n",
       " 'uri': 'spotify:track:7rDhAqoPJ6gjbMhFO8QlBn',\n",
       " 'track_href': 'https://api.spotify.com/v1/tracks/7rDhAqoPJ6gjbMhFO8QlBn',\n",
       " 'analysis_url': 'https://api.spotify.com/v1/audio-analysis/7rDhAqoPJ6gjbMhFO8QlBn',\n",
       " 'duration_ms': 529051,\n",
       " 'time_signature': 4}"
      ]
     },
     "execution_count": 13,
     "metadata": {},
     "output_type": "execute_result"
    }
   ],
   "source": [
    "features[0]"
   ]
  },
  {
   "cell_type": "code",
   "execution_count": 14,
   "metadata": {},
   "outputs": [
    {
     "data": {
      "text/plain": [
       "0.704"
      ]
     },
     "execution_count": 14,
     "metadata": {},
     "output_type": "execute_result"
    }
   ],
   "source": [
    "features[0]['danceability']"
   ]
  },
  {
   "cell_type": "markdown",
   "metadata": {},
   "source": [
    "# check about popularity **************************"
   ]
  },
  {
   "cell_type": "code",
   "execution_count": 15,
   "metadata": {},
   "outputs": [],
   "source": [
    "t_popularity = []\n",
    "for track in tids:\n",
    "    pop = sp.track(track)\n",
    "    # pop is a dict with many attributes, we are interested at the moment in popularity\n",
    "    t_popularity.append(pop['popularity'])"
   ]
  },
  {
   "cell_type": "code",
   "execution_count": 16,
   "metadata": {},
   "outputs": [],
   "source": [
    "def get_tracks_features_into_dict(tracks_features):\n",
    "    t_id = []\n",
    "    t_danceability = []\n",
    "    t_energy = []\n",
    "    t_loudness = []\n",
    "    t_speechiness = []\n",
    "    t_acousticness = []\n",
    "    t_instrumentalness = []\n",
    "    t_liveness = []\n",
    "    t_valence = []\n",
    "    t_tempo = []\n",
    "    t_duration_ms = []\n",
    "    for i in range(len(t_names)):\n",
    "        t_id.append(tracks_features[i]['id'])\n",
    "        t_danceability.append(tracks_features[i]['danceability'])\n",
    "        t_energy.append(tracks_features[i]['energy'])\n",
    "        t_loudness.append(tracks_features[i]['loudness'])\n",
    "        t_speechiness.append(tracks_features[i]['speechiness'])\n",
    "        t_acousticness.append(tracks_features[i]['acousticness'])\n",
    "        t_instrumentalness.append(tracks_features[i]['instrumentalness'])\n",
    "        t_liveness.append(tracks_features[i]['liveness'])\n",
    "        t_valence.append(tracks_features[i]['valence'])\n",
    "        t_tempo.append(tracks_features[i]['tempo'])\n",
    "        t_duration_ms.append(tracks_features[i]['duration_ms'])\n",
    "    #create a dictionary    \n",
    "    d = {'id':t_id,\n",
    "         'danceability':t_danceability,\n",
    "         'energy':t_energy,\n",
    "         'loudness':t_loudness,\n",
    "         'speechiness':t_speechiness,\n",
    "         'acousticness':t_acousticness,\n",
    "         'instrumentalness':t_instrumentalness,\n",
    "         'liveness':t_liveness,\n",
    "         'valence':t_valence,\n",
    "         'tempo':t_tempo,\n",
    "         'duration_ms':t_duration_ms\n",
    "    }\n",
    "    \n",
    "    return d"
   ]
  },
  {
   "cell_type": "code",
   "execution_count": 17,
   "metadata": {},
   "outputs": [],
   "source": [
    "songs_features_dict = get_tracks_features_into_dict(features)"
   ]
  },
  {
   "cell_type": "code",
   "execution_count": 18,
   "metadata": {},
   "outputs": [
    {
     "data": {
      "text/plain": [
       "{'id': ['7rDhAqoPJ6gjbMhFO8QlBn',\n",
       "  '5ysVy4xs1qyMqfYOKEh6Qh',\n",
       "  '4mX3gf4UAE2joPcVvy57dB',\n",
       "  '2JxBciAF6Vg15pdIgUJ1g6',\n",
       "  '5JpJA7Pvrt96dMdfX0fViA',\n",
       "  '7JkZzoSGyeImBpwZZEMd5i'],\n",
       " 'danceability': [0.704, 0.674, 0.817, 0.605, 0.756, 0.743],\n",
       " 'energy': [0.773, 0.494, 0.797, 0.831, 0.498, 0.679],\n",
       " 'loudness': [-9.525, -4.917, -5.644, -7.804, -10.105, -8.97],\n",
       " 'speechiness': [0.0429, 0.0404, 0.165, 0.0353, 0.0865, 0.0596],\n",
       " 'acousticness': [0.00332, 0.585, 0.14, 0.00113, 0.0635, 0.0253],\n",
       " 'instrumentalness': [0.877, 5.22e-05, 0, 0.771, 0.726, 0.907],\n",
       " 'liveness': [0.107, 0.605, 0.179, 0.0641, 0.0811, 0.0708],\n",
       " 'valence': [0.377, 0.648, 0.448, 0.637, 0.14, 0.642],\n",
       " 'tempo': [136.995, 134.072, 132.897, 140.03, 142.008, 141.981],\n",
       " 'duration_ms': [529051, 288000, 151838, 360000, 569577, 459718]}"
      ]
     },
     "execution_count": 18,
     "metadata": {},
     "output_type": "execute_result"
    }
   ],
   "source": [
    "songs_features_dict"
   ]
  },
  {
   "cell_type": "markdown",
   "metadata": {},
   "source": [
    "## create dataframe"
   ]
  },
  {
   "cell_type": "code",
   "execution_count": 19,
   "metadata": {},
   "outputs": [
    {
     "data": {
      "text/html": [
       "<div>\n",
       "<style scoped>\n",
       "    .dataframe tbody tr th:only-of-type {\n",
       "        vertical-align: middle;\n",
       "    }\n",
       "\n",
       "    .dataframe tbody tr th {\n",
       "        vertical-align: top;\n",
       "    }\n",
       "\n",
       "    .dataframe thead th {\n",
       "        text-align: right;\n",
       "    }\n",
       "</style>\n",
       "<table border=\"1\" class=\"dataframe\">\n",
       "  <thead>\n",
       "    <tr style=\"text-align: right;\">\n",
       "      <th></th>\n",
       "      <th>id</th>\n",
       "      <th>danceability</th>\n",
       "      <th>energy</th>\n",
       "      <th>loudness</th>\n",
       "      <th>speechiness</th>\n",
       "      <th>acousticness</th>\n",
       "      <th>instrumentalness</th>\n",
       "      <th>liveness</th>\n",
       "      <th>valence</th>\n",
       "      <th>tempo</th>\n",
       "      <th>duration_ms</th>\n",
       "    </tr>\n",
       "  </thead>\n",
       "  <tbody>\n",
       "    <tr>\n",
       "      <th>0</th>\n",
       "      <td>7rDhAqoPJ6gjbMhFO8QlBn</td>\n",
       "      <td>0.704</td>\n",
       "      <td>0.773</td>\n",
       "      <td>-9.525</td>\n",
       "      <td>0.0429</td>\n",
       "      <td>0.00332</td>\n",
       "      <td>0.877000</td>\n",
       "      <td>0.1070</td>\n",
       "      <td>0.377</td>\n",
       "      <td>136.995</td>\n",
       "      <td>529051</td>\n",
       "    </tr>\n",
       "    <tr>\n",
       "      <th>1</th>\n",
       "      <td>5ysVy4xs1qyMqfYOKEh6Qh</td>\n",
       "      <td>0.674</td>\n",
       "      <td>0.494</td>\n",
       "      <td>-4.917</td>\n",
       "      <td>0.0404</td>\n",
       "      <td>0.58500</td>\n",
       "      <td>0.000052</td>\n",
       "      <td>0.6050</td>\n",
       "      <td>0.648</td>\n",
       "      <td>134.072</td>\n",
       "      <td>288000</td>\n",
       "    </tr>\n",
       "    <tr>\n",
       "      <th>2</th>\n",
       "      <td>4mX3gf4UAE2joPcVvy57dB</td>\n",
       "      <td>0.817</td>\n",
       "      <td>0.797</td>\n",
       "      <td>-5.644</td>\n",
       "      <td>0.1650</td>\n",
       "      <td>0.14000</td>\n",
       "      <td>0.000000</td>\n",
       "      <td>0.1790</td>\n",
       "      <td>0.448</td>\n",
       "      <td>132.897</td>\n",
       "      <td>151838</td>\n",
       "    </tr>\n",
       "    <tr>\n",
       "      <th>3</th>\n",
       "      <td>2JxBciAF6Vg15pdIgUJ1g6</td>\n",
       "      <td>0.605</td>\n",
       "      <td>0.831</td>\n",
       "      <td>-7.804</td>\n",
       "      <td>0.0353</td>\n",
       "      <td>0.00113</td>\n",
       "      <td>0.771000</td>\n",
       "      <td>0.0641</td>\n",
       "      <td>0.637</td>\n",
       "      <td>140.030</td>\n",
       "      <td>360000</td>\n",
       "    </tr>\n",
       "    <tr>\n",
       "      <th>4</th>\n",
       "      <td>5JpJA7Pvrt96dMdfX0fViA</td>\n",
       "      <td>0.756</td>\n",
       "      <td>0.498</td>\n",
       "      <td>-10.105</td>\n",
       "      <td>0.0865</td>\n",
       "      <td>0.06350</td>\n",
       "      <td>0.726000</td>\n",
       "      <td>0.0811</td>\n",
       "      <td>0.140</td>\n",
       "      <td>142.008</td>\n",
       "      <td>569577</td>\n",
       "    </tr>\n",
       "  </tbody>\n",
       "</table>\n",
       "</div>"
      ],
      "text/plain": [
       "                       id  danceability  energy  loudness  speechiness  \\\n",
       "0  7rDhAqoPJ6gjbMhFO8QlBn         0.704   0.773    -9.525       0.0429   \n",
       "1  5ysVy4xs1qyMqfYOKEh6Qh         0.674   0.494    -4.917       0.0404   \n",
       "2  4mX3gf4UAE2joPcVvy57dB         0.817   0.797    -5.644       0.1650   \n",
       "3  2JxBciAF6Vg15pdIgUJ1g6         0.605   0.831    -7.804       0.0353   \n",
       "4  5JpJA7Pvrt96dMdfX0fViA         0.756   0.498   -10.105       0.0865   \n",
       "\n",
       "   acousticness  instrumentalness  liveness  valence    tempo  duration_ms  \n",
       "0       0.00332          0.877000    0.1070    0.377  136.995       529051  \n",
       "1       0.58500          0.000052    0.6050    0.648  134.072       288000  \n",
       "2       0.14000          0.000000    0.1790    0.448  132.897       151838  \n",
       "3       0.00113          0.771000    0.0641    0.637  140.030       360000  \n",
       "4       0.06350          0.726000    0.0811    0.140  142.008       569577  "
      ]
     },
     "execution_count": 19,
     "metadata": {},
     "output_type": "execute_result"
    }
   ],
   "source": [
    "df = pd.DataFrame(songs_features_dict)\n",
    "df.head()"
   ]
  },
  {
   "cell_type": "code",
   "execution_count": 20,
   "metadata": {},
   "outputs": [],
   "source": [
    "df.insert(11, \"popularity\", pd.Series(t_popularity) , True) "
   ]
  },
  {
   "cell_type": "markdown",
   "metadata": {},
   "source": [
    "# we define ourselves the tracks types based on our knowledge"
   ]
  },
  {
   "cell_type": "code",
   "execution_count": 21,
   "metadata": {},
   "outputs": [],
   "source": [
    "df.insert(12, \"track_type\", 'deep psy' , True)\n",
    "df = df.set_index('id')"
   ]
  },
  {
   "cell_type": "code",
   "execution_count": 22,
   "metadata": {},
   "outputs": [
    {
     "data": {
      "text/html": [
       "<div>\n",
       "<style scoped>\n",
       "    .dataframe tbody tr th:only-of-type {\n",
       "        vertical-align: middle;\n",
       "    }\n",
       "\n",
       "    .dataframe tbody tr th {\n",
       "        vertical-align: top;\n",
       "    }\n",
       "\n",
       "    .dataframe thead th {\n",
       "        text-align: right;\n",
       "    }\n",
       "</style>\n",
       "<table border=\"1\" class=\"dataframe\">\n",
       "  <thead>\n",
       "    <tr style=\"text-align: right;\">\n",
       "      <th></th>\n",
       "      <th>danceability</th>\n",
       "      <th>energy</th>\n",
       "      <th>loudness</th>\n",
       "      <th>speechiness</th>\n",
       "      <th>acousticness</th>\n",
       "      <th>instrumentalness</th>\n",
       "      <th>liveness</th>\n",
       "      <th>valence</th>\n",
       "      <th>tempo</th>\n",
       "      <th>duration_ms</th>\n",
       "      <th>popularity</th>\n",
       "      <th>track_type</th>\n",
       "    </tr>\n",
       "    <tr>\n",
       "      <th>id</th>\n",
       "      <th></th>\n",
       "      <th></th>\n",
       "      <th></th>\n",
       "      <th></th>\n",
       "      <th></th>\n",
       "      <th></th>\n",
       "      <th></th>\n",
       "      <th></th>\n",
       "      <th></th>\n",
       "      <th></th>\n",
       "      <th></th>\n",
       "      <th></th>\n",
       "    </tr>\n",
       "  </thead>\n",
       "  <tbody>\n",
       "    <tr>\n",
       "      <th>7rDhAqoPJ6gjbMhFO8QlBn</th>\n",
       "      <td>0.704</td>\n",
       "      <td>0.773</td>\n",
       "      <td>-9.525</td>\n",
       "      <td>0.0429</td>\n",
       "      <td>0.00332</td>\n",
       "      <td>0.877000</td>\n",
       "      <td>0.1070</td>\n",
       "      <td>0.377</td>\n",
       "      <td>136.995</td>\n",
       "      <td>529051</td>\n",
       "      <td>43</td>\n",
       "      <td>deep psy</td>\n",
       "    </tr>\n",
       "    <tr>\n",
       "      <th>5ysVy4xs1qyMqfYOKEh6Qh</th>\n",
       "      <td>0.674</td>\n",
       "      <td>0.494</td>\n",
       "      <td>-4.917</td>\n",
       "      <td>0.0404</td>\n",
       "      <td>0.58500</td>\n",
       "      <td>0.000052</td>\n",
       "      <td>0.6050</td>\n",
       "      <td>0.648</td>\n",
       "      <td>134.072</td>\n",
       "      <td>288000</td>\n",
       "      <td>36</td>\n",
       "      <td>deep psy</td>\n",
       "    </tr>\n",
       "    <tr>\n",
       "      <th>4mX3gf4UAE2joPcVvy57dB</th>\n",
       "      <td>0.817</td>\n",
       "      <td>0.797</td>\n",
       "      <td>-5.644</td>\n",
       "      <td>0.1650</td>\n",
       "      <td>0.14000</td>\n",
       "      <td>0.000000</td>\n",
       "      <td>0.1790</td>\n",
       "      <td>0.448</td>\n",
       "      <td>132.897</td>\n",
       "      <td>151838</td>\n",
       "      <td>10</td>\n",
       "      <td>deep psy</td>\n",
       "    </tr>\n",
       "    <tr>\n",
       "      <th>2JxBciAF6Vg15pdIgUJ1g6</th>\n",
       "      <td>0.605</td>\n",
       "      <td>0.831</td>\n",
       "      <td>-7.804</td>\n",
       "      <td>0.0353</td>\n",
       "      <td>0.00113</td>\n",
       "      <td>0.771000</td>\n",
       "      <td>0.0641</td>\n",
       "      <td>0.637</td>\n",
       "      <td>140.030</td>\n",
       "      <td>360000</td>\n",
       "      <td>22</td>\n",
       "      <td>deep psy</td>\n",
       "    </tr>\n",
       "    <tr>\n",
       "      <th>5JpJA7Pvrt96dMdfX0fViA</th>\n",
       "      <td>0.756</td>\n",
       "      <td>0.498</td>\n",
       "      <td>-10.105</td>\n",
       "      <td>0.0865</td>\n",
       "      <td>0.06350</td>\n",
       "      <td>0.726000</td>\n",
       "      <td>0.0811</td>\n",
       "      <td>0.140</td>\n",
       "      <td>142.008</td>\n",
       "      <td>569577</td>\n",
       "      <td>24</td>\n",
       "      <td>deep psy</td>\n",
       "    </tr>\n",
       "    <tr>\n",
       "      <th>7JkZzoSGyeImBpwZZEMd5i</th>\n",
       "      <td>0.743</td>\n",
       "      <td>0.679</td>\n",
       "      <td>-8.970</td>\n",
       "      <td>0.0596</td>\n",
       "      <td>0.02530</td>\n",
       "      <td>0.907000</td>\n",
       "      <td>0.0708</td>\n",
       "      <td>0.642</td>\n",
       "      <td>141.981</td>\n",
       "      <td>459718</td>\n",
       "      <td>26</td>\n",
       "      <td>deep psy</td>\n",
       "    </tr>\n",
       "  </tbody>\n",
       "</table>\n",
       "</div>"
      ],
      "text/plain": [
       "                        danceability  energy  loudness  speechiness  \\\n",
       "id                                                                    \n",
       "7rDhAqoPJ6gjbMhFO8QlBn         0.704   0.773    -9.525       0.0429   \n",
       "5ysVy4xs1qyMqfYOKEh6Qh         0.674   0.494    -4.917       0.0404   \n",
       "4mX3gf4UAE2joPcVvy57dB         0.817   0.797    -5.644       0.1650   \n",
       "2JxBciAF6Vg15pdIgUJ1g6         0.605   0.831    -7.804       0.0353   \n",
       "5JpJA7Pvrt96dMdfX0fViA         0.756   0.498   -10.105       0.0865   \n",
       "7JkZzoSGyeImBpwZZEMd5i         0.743   0.679    -8.970       0.0596   \n",
       "\n",
       "                        acousticness  instrumentalness  liveness  valence  \\\n",
       "id                                                                          \n",
       "7rDhAqoPJ6gjbMhFO8QlBn       0.00332          0.877000    0.1070    0.377   \n",
       "5ysVy4xs1qyMqfYOKEh6Qh       0.58500          0.000052    0.6050    0.648   \n",
       "4mX3gf4UAE2joPcVvy57dB       0.14000          0.000000    0.1790    0.448   \n",
       "2JxBciAF6Vg15pdIgUJ1g6       0.00113          0.771000    0.0641    0.637   \n",
       "5JpJA7Pvrt96dMdfX0fViA       0.06350          0.726000    0.0811    0.140   \n",
       "7JkZzoSGyeImBpwZZEMd5i       0.02530          0.907000    0.0708    0.642   \n",
       "\n",
       "                          tempo  duration_ms  popularity track_type  \n",
       "id                                                                   \n",
       "7rDhAqoPJ6gjbMhFO8QlBn  136.995       529051          43   deep psy  \n",
       "5ysVy4xs1qyMqfYOKEh6Qh  134.072       288000          36   deep psy  \n",
       "4mX3gf4UAE2joPcVvy57dB  132.897       151838          10   deep psy  \n",
       "2JxBciAF6Vg15pdIgUJ1g6  140.030       360000          22   deep psy  \n",
       "5JpJA7Pvrt96dMdfX0fViA  142.008       569577          24   deep psy  \n",
       "7JkZzoSGyeImBpwZZEMd5i  141.981       459718          26   deep psy  "
      ]
     },
     "execution_count": 22,
     "metadata": {},
     "output_type": "execute_result"
    }
   ],
   "source": [
    "df"
   ]
  },
  {
   "cell_type": "code",
   "execution_count": 23,
   "metadata": {},
   "outputs": [
    {
     "data": {
      "text/html": [
       "<div>\n",
       "<style scoped>\n",
       "    .dataframe tbody tr th:only-of-type {\n",
       "        vertical-align: middle;\n",
       "    }\n",
       "\n",
       "    .dataframe tbody tr th {\n",
       "        vertical-align: top;\n",
       "    }\n",
       "\n",
       "    .dataframe thead th {\n",
       "        text-align: right;\n",
       "    }\n",
       "</style>\n",
       "<table border=\"1\" class=\"dataframe\">\n",
       "  <thead>\n",
       "    <tr style=\"text-align: right;\">\n",
       "      <th></th>\n",
       "      <th>danceability</th>\n",
       "      <th>energy</th>\n",
       "      <th>loudness</th>\n",
       "      <th>speechiness</th>\n",
       "      <th>acousticness</th>\n",
       "      <th>instrumentalness</th>\n",
       "      <th>liveness</th>\n",
       "      <th>valence</th>\n",
       "      <th>tempo</th>\n",
       "      <th>duration_ms</th>\n",
       "      <th>popularity</th>\n",
       "    </tr>\n",
       "  </thead>\n",
       "  <tbody>\n",
       "    <tr>\n",
       "      <th>count</th>\n",
       "      <td>6.000000</td>\n",
       "      <td>6.000000</td>\n",
       "      <td>6.000000</td>\n",
       "      <td>6.000000</td>\n",
       "      <td>6.000000</td>\n",
       "      <td>6.000000</td>\n",
       "      <td>6.000000</td>\n",
       "      <td>6.000000</td>\n",
       "      <td>6.000000</td>\n",
       "      <td>6.000000</td>\n",
       "      <td>6.000000</td>\n",
       "    </tr>\n",
       "    <tr>\n",
       "      <th>mean</th>\n",
       "      <td>0.716500</td>\n",
       "      <td>0.678667</td>\n",
       "      <td>-7.827500</td>\n",
       "      <td>0.071617</td>\n",
       "      <td>0.136375</td>\n",
       "      <td>0.546842</td>\n",
       "      <td>0.184500</td>\n",
       "      <td>0.482000</td>\n",
       "      <td>137.997167</td>\n",
       "      <td>393030.666667</td>\n",
       "      <td>26.833333</td>\n",
       "    </tr>\n",
       "    <tr>\n",
       "      <th>std</th>\n",
       "      <td>0.073154</td>\n",
       "      <td>0.150233</td>\n",
       "      <td>2.126643</td>\n",
       "      <td>0.049405</td>\n",
       "      <td>0.225797</td>\n",
       "      <td>0.428737</td>\n",
       "      <td>0.210225</td>\n",
       "      <td>0.203138</td>\n",
       "      <td>3.962653</td>\n",
       "      <td>157742.643350</td>\n",
       "      <td>11.496376</td>\n",
       "    </tr>\n",
       "    <tr>\n",
       "      <th>min</th>\n",
       "      <td>0.605000</td>\n",
       "      <td>0.494000</td>\n",
       "      <td>-10.105000</td>\n",
       "      <td>0.035300</td>\n",
       "      <td>0.001130</td>\n",
       "      <td>0.000000</td>\n",
       "      <td>0.064100</td>\n",
       "      <td>0.140000</td>\n",
       "      <td>132.897000</td>\n",
       "      <td>151838.000000</td>\n",
       "      <td>10.000000</td>\n",
       "    </tr>\n",
       "    <tr>\n",
       "      <th>25%</th>\n",
       "      <td>0.681500</td>\n",
       "      <td>0.543250</td>\n",
       "      <td>-9.386250</td>\n",
       "      <td>0.041025</td>\n",
       "      <td>0.008815</td>\n",
       "      <td>0.181539</td>\n",
       "      <td>0.073375</td>\n",
       "      <td>0.394750</td>\n",
       "      <td>134.802750</td>\n",
       "      <td>306000.000000</td>\n",
       "      <td>22.500000</td>\n",
       "    </tr>\n",
       "    <tr>\n",
       "      <th>50%</th>\n",
       "      <td>0.723500</td>\n",
       "      <td>0.726000</td>\n",
       "      <td>-8.387000</td>\n",
       "      <td>0.051250</td>\n",
       "      <td>0.044400</td>\n",
       "      <td>0.748500</td>\n",
       "      <td>0.094050</td>\n",
       "      <td>0.542500</td>\n",
       "      <td>138.512500</td>\n",
       "      <td>409859.000000</td>\n",
       "      <td>25.000000</td>\n",
       "    </tr>\n",
       "    <tr>\n",
       "      <th>75%</th>\n",
       "      <td>0.752750</td>\n",
       "      <td>0.791000</td>\n",
       "      <td>-6.184000</td>\n",
       "      <td>0.079775</td>\n",
       "      <td>0.120875</td>\n",
       "      <td>0.850500</td>\n",
       "      <td>0.161000</td>\n",
       "      <td>0.640750</td>\n",
       "      <td>141.493250</td>\n",
       "      <td>511717.750000</td>\n",
       "      <td>33.500000</td>\n",
       "    </tr>\n",
       "    <tr>\n",
       "      <th>max</th>\n",
       "      <td>0.817000</td>\n",
       "      <td>0.831000</td>\n",
       "      <td>-4.917000</td>\n",
       "      <td>0.165000</td>\n",
       "      <td>0.585000</td>\n",
       "      <td>0.907000</td>\n",
       "      <td>0.605000</td>\n",
       "      <td>0.648000</td>\n",
       "      <td>142.008000</td>\n",
       "      <td>569577.000000</td>\n",
       "      <td>43.000000</td>\n",
       "    </tr>\n",
       "  </tbody>\n",
       "</table>\n",
       "</div>"
      ],
      "text/plain": [
       "       danceability    energy   loudness  speechiness  acousticness  \\\n",
       "count      6.000000  6.000000   6.000000     6.000000      6.000000   \n",
       "mean       0.716500  0.678667  -7.827500     0.071617      0.136375   \n",
       "std        0.073154  0.150233   2.126643     0.049405      0.225797   \n",
       "min        0.605000  0.494000 -10.105000     0.035300      0.001130   \n",
       "25%        0.681500  0.543250  -9.386250     0.041025      0.008815   \n",
       "50%        0.723500  0.726000  -8.387000     0.051250      0.044400   \n",
       "75%        0.752750  0.791000  -6.184000     0.079775      0.120875   \n",
       "max        0.817000  0.831000  -4.917000     0.165000      0.585000   \n",
       "\n",
       "       instrumentalness  liveness   valence       tempo    duration_ms  \\\n",
       "count          6.000000  6.000000  6.000000    6.000000       6.000000   \n",
       "mean           0.546842  0.184500  0.482000  137.997167  393030.666667   \n",
       "std            0.428737  0.210225  0.203138    3.962653  157742.643350   \n",
       "min            0.000000  0.064100  0.140000  132.897000  151838.000000   \n",
       "25%            0.181539  0.073375  0.394750  134.802750  306000.000000   \n",
       "50%            0.748500  0.094050  0.542500  138.512500  409859.000000   \n",
       "75%            0.850500  0.161000  0.640750  141.493250  511717.750000   \n",
       "max            0.907000  0.605000  0.648000  142.008000  569577.000000   \n",
       "\n",
       "       popularity  \n",
       "count    6.000000  \n",
       "mean    26.833333  \n",
       "std     11.496376  \n",
       "min     10.000000  \n",
       "25%     22.500000  \n",
       "50%     25.000000  \n",
       "75%     33.500000  \n",
       "max     43.000000  "
      ]
     },
     "execution_count": 23,
     "metadata": {},
     "output_type": "execute_result"
    }
   ],
   "source": [
    "df.describe()"
   ]
  },
  {
   "cell_type": "markdown",
   "metadata": {},
   "source": [
    "# DISTRIBUTIONS"
   ]
  },
  {
   "cell_type": "code",
   "execution_count": 24,
   "metadata": {},
   "outputs": [],
   "source": [
    "import matplotlib.pyplot as plt\n",
    "import seaborn as sns"
   ]
  },
  {
   "cell_type": "code",
   "execution_count": 25,
   "metadata": {},
   "outputs": [],
   "source": [
    "sns.set()\n",
    "\n",
    "# GET CURRENT SIZE\n",
    "fig_size = plt.rcParams['figure.figsize']"
   ]
  },
  {
   "cell_type": "code",
   "execution_count": 26,
   "metadata": {},
   "outputs": [
    {
     "data": {
      "text/plain": [
       "[6.0, 4.0]"
      ]
     },
     "execution_count": 26,
     "metadata": {},
     "output_type": "execute_result"
    }
   ],
   "source": [
    "fig_size"
   ]
  },
  {
   "cell_type": "code",
   "execution_count": 27,
   "metadata": {},
   "outputs": [],
   "source": [
    "# SET WIDTH AND HEIGHT\n",
    "fig_size[0] = 14\n",
    "fig_size[1] = 9\n",
    "plt.rcParams['figure.figsize'] = fig_size"
   ]
  },
  {
   "cell_type": "markdown",
   "metadata": {},
   "source": [
    "###  duration ms dist"
   ]
  },
  {
   "cell_type": "code",
   "execution_count": 28,
   "metadata": {},
   "outputs": [
    {
     "name": "stderr",
     "output_type": "stream",
     "text": [
      "C:\\Users\\orenz\\Anaconda3\\lib\\site-packages\\scipy\\stats\\stats.py:1713: FutureWarning: Using a non-tuple sequence for multidimensional indexing is deprecated; use `arr[tuple(seq)]` instead of `arr[seq]`. In the future this will be interpreted as an array index, `arr[np.array(seq)]`, which will result either in an error or a different result.\n",
      "  return np.add.reduce(sorted[indexer] * weights, axis=axis) / sumval\n"
     ]
    },
    {
     "data": {
      "text/plain": [
       "Text(0.5,0,'duration_min')"
      ]
     },
     "execution_count": 28,
     "metadata": {},
     "output_type": "execute_result"
    },
    {
     "data": {
      "image/png": "[encoded data removed]",
      "text/plain": [
       "<Figure size 1008x648 with 1 Axes>"
      ]
     },
     "metadata": {},
     "output_type": "display_data"
    }
   ],
   "source": [
    "sns.distplot((df.duration_ms/1000.0)/60.0)\n",
    "plt.xlabel('duration_min',fontsize=18)"
   ]
  },
  {
   "cell_type": "markdown",
   "metadata": {},
   "source": [
    "### other features distributions"
   ]
  },
  {
   "cell_type": "code",
   "execution_count": 29,
   "metadata": {},
   "outputs": [
    {
     "name": "stderr",
     "output_type": "stream",
     "text": [
      "C:\\Users\\orenz\\Anaconda3\\lib\\site-packages\\scipy\\stats\\stats.py:1713: FutureWarning: Using a non-tuple sequence for multidimensional indexing is deprecated; use `arr[tuple(seq)]` instead of `arr[seq]`. In the future this will be interpreted as an array index, `arr[np.array(seq)]`, which will result either in an error or a different result.\n",
      "  return np.add.reduce(sorted[indexer] * weights, axis=axis) / sumval\n"
     ]
    },
    {
     "data": {
      "image/png": "[encoded data removed]",
      "text/plain": [
       "<Figure size 1008x648 with 9 Axes>"
      ]
     },
     "metadata": {},
     "output_type": "display_data"
    }
   ],
   "source": [
    "plt.subplot(331)\n",
    "sns.distplot(df.danceability)\n",
    "plt.xlabel('danceability', fontsize=18)\n",
    "\n",
    "plt.subplot(332)\n",
    "sns.distplot(df.energy)\n",
    "plt.xlabel('energy', fontsize=18)\n",
    "\n",
    "plt.subplot(333)\n",
    "sns.distplot(df.loudness)\n",
    "plt.xlabel('loudness', fontsize=18)\n",
    "\n",
    "plt.subplot(334)\n",
    "sns.distplot(df.speechiness)\n",
    "plt.xlabel('speechiness', fontsize=18)\n",
    "\n",
    "plt.subplot(335)\n",
    "sns.distplot(df.acousticness)\n",
    "plt.xlabel('acousticness', fontsize=18)\n",
    "\n",
    "plt.subplot(336)\n",
    "sns.distplot(df.instrumentalness)\n",
    "plt.xlabel('instrumentalness', fontsize=18)\n",
    "\n",
    "plt.subplot(337)\n",
    "sns.distplot(df.liveness)\n",
    "plt.xlabel('liveness', fontsize=18)\n",
    "\n",
    "plt.subplot(338)\n",
    "sns.distplot(df.valence)\n",
    "plt.xlabel('valence', fontsize=18)\n",
    "\n",
    "plt.subplot(339)\n",
    "sns.distplot(df.tempo)\n",
    "plt.xlabel('tempo', fontsize=18)\n",
    "\n",
    "plt.tight_layout()\n",
    "plt.show()\n"
   ]
  },
  {
   "cell_type": "code",
   "execution_count": 30,
   "metadata": {},
   "outputs": [],
   "source": [
    "df.to_csv('dekel_tracks_data.csv')"
   ]
  },
  {
   "cell_type": "code",
   "execution_count": null,
   "metadata": {},
   "outputs": [],
   "source": []
  }
 ],
 "metadata": {
  "kernelspec": {
   "display_name": "Python 3",
   "language": "python",
   "name": "python3"
  },
  "language_info": {
   "codemirror_mode": {
    "name": "ipython",
    "version": 3
   },
   "file_extension": ".py",
   "mimetype": "text/x-python",
   "name": "python",
   "nbconvert_exporter": "python",
   "pygments_lexer": "ipython3",
   "version": "3.7.0"
  }
 },
 "nbformat": 4,
 "nbformat_minor": 2
}
