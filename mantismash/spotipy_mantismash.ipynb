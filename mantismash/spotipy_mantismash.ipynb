{
 "cells": [
  {
   "cell_type": "markdown",
   "metadata": {},
   "source": [
    "# mantismash tracks data extract"
   ]
  },
  {
   "cell_type": "code",
   "execution_count": 1,
   "metadata": {},
   "outputs": [],
   "source": [
    "import spotipy\n",
    "import json\n",
    "import time\n",
    "import sys\n",
    "import pandas as pd\n",
    "import numpy as np"
   ]
  },
  {
   "cell_type": "code",
   "execution_count": 2,
   "metadata": {},
   "outputs": [],
   "source": [
    "from spotipy.oauth2 import SpotifyClientCredentials #To access authorised Spotify data\n",
    "client_id = 'e2259109005e4bca90a98a851f042e7e'\n",
    "client_secret = '7a39ee07c96d451298fa86308bd66ae0'"
   ]
  },
  {
   "cell_type": "code",
   "execution_count": 3,
   "metadata": {},
   "outputs": [],
   "source": [
    "client_credentials_manager = SpotifyClientCredentials(client_id=client_id, client_secret=client_secret)\n",
    "sp = spotipy.Spotify(client_credentials_manager=client_credentials_manager) #spotify object to access API"
   ]
  },
  {
   "cell_type": "code",
   "execution_count": 4,
   "metadata": {},
   "outputs": [
    {
     "data": {
      "text/plain": [
       "[{'external_urls': {'spotify': 'https://open.spotify.com/artist/7DWz1Cj7HZrwBs7kraQqAm'},\n",
       "  'href': 'https://api.spotify.com/v1/artists/7DWz1Cj7HZrwBs7kraQqAm',\n",
       "  'id': '7DWz1Cj7HZrwBs7kraQqAm',\n",
       "  'name': 'MantisMash',\n",
       "  'type': 'artist',\n",
       "  'uri': 'spotify:artist:7DWz1Cj7HZrwBs7kraQqAm'}]"
      ]
     },
     "execution_count": 4,
     "metadata": {},
     "output_type": "execute_result"
    }
   ],
   "source": [
    "name = \"mantismash\" #chosen artist\n",
    "result = sp.search(name) #search query\n",
    "result['tracks']['items'][0]['artists']"
   ]
  },
  {
   "cell_type": "code",
   "execution_count": 5,
   "metadata": {},
   "outputs": [],
   "source": [
    "#Extract Artist's uri\n",
    "artist_uri = result['tracks']['items'][0]['artists'][0]['uri']\n",
    "\n",
    "#Pull all of the artist's albums\n",
    "sp_albums = sp.artist_albums(artist_uri, album_type='album')\n",
    "\n",
    "#Store artist's albums' names' and uris in separate lists\n",
    "album_names = []\n",
    "album_uris = []\n",
    "for i in range(len(sp_albums['items'])):\n",
    "    album_names.append(sp_albums['items'][i]['name'])\n",
    "    album_uris.append(sp_albums['items'][i]['uri'])"
   ]
  },
  {
   "cell_type": "code",
   "execution_count": 6,
   "metadata": {},
   "outputs": [
    {
     "data": {
      "text/plain": [
       "['spotify:album:6FIko195qO4Pw8iksM4HEE',\n",
       " 'spotify:album:0wdarjn4AFIIQhXUvYojcx',\n",
       " 'spotify:album:2ZlmLDmGbbUt9k8yPxu73i',\n",
       " 'spotify:album:61YcAlRL8vNa83fN2urYl7']"
      ]
     },
     "execution_count": 6,
     "metadata": {},
     "output_type": "execute_result"
    }
   ],
   "source": [
    "album_uris"
   ]
  },
  {
   "cell_type": "code",
   "execution_count": 7,
   "metadata": {},
   "outputs": [
    {
     "data": {
      "text/plain": [
       "['Inspectral', 'Omnipresent', 'Meraki', 'Simplexity']"
      ]
     },
     "execution_count": 7,
     "metadata": {},
     "output_type": "execute_result"
    }
   ],
   "source": [
    "album_names"
   ]
  },
  {
   "cell_type": "markdown",
   "metadata": {},
   "source": [
    "### get tracks ids"
   ]
  },
  {
   "cell_type": "code",
   "execution_count": 8,
   "metadata": {},
   "outputs": [
    {
     "name": "stdout",
     "output_type": "stream",
     "text": [
      "  0 Mekong Drifters\n",
      "  1 Wonky Floor\n",
      "  2 Tourbass\n",
      "  3 Psychonauts Temple\n",
      "  4 Saigon Haze\n",
      "  5 Cosmic Piper\n",
      "  6 Kali Ma\n",
      "  7 Kahwa Dub\n",
      "  8 Ocean of Clouds\n",
      "  9 Kasmanaft\n"
     ]
    }
   ],
   "source": [
    "tids = []\n",
    "t_names = []\n",
    "for i, t in enumerate(result['tracks']['items']):\n",
    "    print(' ', i, t['name'])\n",
    "    t_names.append(t['name'])\n",
    "    tids.append(t['uri'])"
   ]
  },
  {
   "cell_type": "code",
   "execution_count": 9,
   "metadata": {},
   "outputs": [
    {
     "data": {
      "text/plain": [
       "['Mekong Drifters',\n",
       " 'Wonky Floor',\n",
       " 'Tourbass',\n",
       " 'Psychonauts Temple',\n",
       " 'Saigon Haze',\n",
       " 'Cosmic Piper',\n",
       " 'Kali Ma',\n",
       " 'Kahwa Dub',\n",
       " 'Ocean of Clouds',\n",
       " 'Kasmanaft']"
      ]
     },
     "execution_count": 9,
     "metadata": {},
     "output_type": "execute_result"
    }
   ],
   "source": [
    "t_names"
   ]
  },
  {
   "cell_type": "code",
   "execution_count": 10,
   "metadata": {},
   "outputs": [
    {
     "name": "stdout",
     "output_type": "stream",
     "text": [
      "time to get the data =  0.3188204765319824\n"
     ]
    }
   ],
   "source": [
    "start = time.time()\n",
    "features = sp.audio_features(tids)\n",
    "delta = time.time() - start\n",
    "print(\"time to get the data = \",delta)"
   ]
  },
  {
   "cell_type": "code",
   "execution_count": 11,
   "metadata": {},
   "outputs": [
    {
     "data": {
      "text/plain": [
       "10"
      ]
     },
     "execution_count": 11,
     "metadata": {},
     "output_type": "execute_result"
    }
   ],
   "source": [
    "len(features)"
   ]
  },
  {
   "cell_type": "code",
   "execution_count": 12,
   "metadata": {},
   "outputs": [
    {
     "data": {
      "text/plain": [
       "{'danceability': 0.82,\n",
       " 'energy': 0.541,\n",
       " 'key': 0,\n",
       " 'loudness': -8.603,\n",
       " 'mode': 0,\n",
       " 'speechiness': 0.0502,\n",
       " 'acousticness': 0.283,\n",
       " 'instrumentalness': 0.874,\n",
       " 'liveness': 0.101,\n",
       " 'valence': 0.239,\n",
       " 'tempo': 124.013,\n",
       " 'type': 'audio_features',\n",
       " 'id': '1pT8xIukhRvFJJZNCSbChL',\n",
       " 'uri': 'spotify:track:1pT8xIukhRvFJJZNCSbChL',\n",
       " 'track_href': 'https://api.spotify.com/v1/tracks/1pT8xIukhRvFJJZNCSbChL',\n",
       " 'analysis_url': 'https://api.spotify.com/v1/audio-analysis/1pT8xIukhRvFJJZNCSbChL',\n",
       " 'duration_ms': 445000,\n",
       " 'time_signature': 4}"
      ]
     },
     "execution_count": 12,
     "metadata": {},
     "output_type": "execute_result"
    }
   ],
   "source": [
    "features[0]"
   ]
  },
  {
   "cell_type": "code",
   "execution_count": 13,
   "metadata": {},
   "outputs": [
    {
     "data": {
      "text/plain": [
       "0.82"
      ]
     },
     "execution_count": 13,
     "metadata": {},
     "output_type": "execute_result"
    }
   ],
   "source": [
    "features[0]['danceability']"
   ]
  },
  {
   "cell_type": "markdown",
   "metadata": {},
   "source": [
    "# check about popularity **************************"
   ]
  },
  {
   "cell_type": "code",
   "execution_count": 14,
   "metadata": {},
   "outputs": [],
   "source": [
    "t_popularity = []\n",
    "for track in tids:\n",
    "    pop = sp.track(track)\n",
    "    # pop is a dict with many attributes, we are interested at the moment in popularity\n",
    "    t_popularity.append(pop['popularity'])"
   ]
  },
  {
   "cell_type": "code",
   "execution_count": 15,
   "metadata": {},
   "outputs": [],
   "source": [
    "def get_tracks_features_into_dict(tracks_features):\n",
    "    t_id = []\n",
    "    t_danceability = []\n",
    "    t_energy = []\n",
    "    t_loudness = []\n",
    "    t_speechiness = []\n",
    "    t_acousticness = []\n",
    "    t_instrumentalness = []\n",
    "    t_liveness = []\n",
    "    t_valence = []\n",
    "    t_tempo = []\n",
    "    t_duration_ms = []\n",
    "    for i in range(len(t_names)):\n",
    "        t_id.append(tracks_features[i]['id'])\n",
    "        t_danceability.append(tracks_features[i]['danceability'])\n",
    "        t_energy.append(tracks_features[i]['energy'])\n",
    "        t_loudness.append(tracks_features[i]['loudness'])\n",
    "        t_speechiness.append(tracks_features[i]['speechiness'])\n",
    "        t_acousticness.append(tracks_features[i]['acousticness'])\n",
    "        t_instrumentalness.append(tracks_features[i]['instrumentalness'])\n",
    "        t_liveness.append(tracks_features[i]['liveness'])\n",
    "        t_valence.append(tracks_features[i]['valence'])\n",
    "        t_tempo.append(tracks_features[i]['tempo'])\n",
    "        t_duration_ms.append(tracks_features[i]['duration_ms'])\n",
    "    #create a dictionary    \n",
    "    d = {'id':t_id,\n",
    "         'danceability':t_danceability,\n",
    "         'energy':t_energy,\n",
    "         'loudness':t_loudness,\n",
    "         'speechiness':t_speechiness,\n",
    "         'acousticness':t_acousticness,\n",
    "         'instrumentalness':t_instrumentalness,\n",
    "         'liveness':t_liveness,\n",
    "         'valence':t_valence,\n",
    "         'tempo':t_tempo,\n",
    "         'duration_ms':t_duration_ms\n",
    "    }\n",
    "    \n",
    "    return d"
   ]
  },
  {
   "cell_type": "code",
   "execution_count": 16,
   "metadata": {},
   "outputs": [],
   "source": [
    "songs_features_dict = get_tracks_features_into_dict(features)"
   ]
  },
  {
   "cell_type": "code",
   "execution_count": 17,
   "metadata": {},
   "outputs": [
    {
     "data": {
      "text/plain": [
       "{'id': ['1pT8xIukhRvFJJZNCSbChL',\n",
       "  '7r5kNKIVjZoak8RVdnq5an',\n",
       "  '0fjhXPjlLOJPcbYIzSw4Zl',\n",
       "  '4mslBDDvZbWSW6PRCfZqXV',\n",
       "  '3wCCCf7kHM9EaEj3NEPECV',\n",
       "  '6CoDK9CeA2ohpPNE5jCk6Y',\n",
       "  '7kGErpXASxvZQTk5m1FfZ7',\n",
       "  '66HlVZYHJgGw1C61kbkLFW',\n",
       "  '6veoMkqzEwhzV9VHkMZ1jf',\n",
       "  '1LjBdXAAoJdxflnJKTZiab'],\n",
       " 'danceability': [0.82,\n",
       "  0.708,\n",
       "  0.574,\n",
       "  0.59,\n",
       "  0.71,\n",
       "  0.796,\n",
       "  0.654,\n",
       "  0.732,\n",
       "  0.325,\n",
       "  0.836],\n",
       " 'energy': [0.541,\n",
       "  0.609,\n",
       "  0.621,\n",
       "  0.757,\n",
       "  0.415,\n",
       "  0.607,\n",
       "  0.58,\n",
       "  0.68,\n",
       "  0.637,\n",
       "  0.562],\n",
       " 'loudness': [-8.603,\n",
       "  -8.494,\n",
       "  -10.323,\n",
       "  -8.28,\n",
       "  -10.029,\n",
       "  -8.798,\n",
       "  -8.561,\n",
       "  -8.482,\n",
       "  -9.472,\n",
       "  -9.202],\n",
       " 'speechiness': [0.0502,\n",
       "  0.233,\n",
       "  0.0556,\n",
       "  0.08,\n",
       "  0.202,\n",
       "  0.063,\n",
       "  0.0743,\n",
       "  0.085,\n",
       "  0.0496,\n",
       "  0.128],\n",
       " 'acousticness': [0.283,\n",
       "  0.0337,\n",
       "  0.0137,\n",
       "  0.104,\n",
       "  0.106,\n",
       "  0.222,\n",
       "  0.163,\n",
       "  0.0306,\n",
       "  0.016,\n",
       "  0.138],\n",
       " 'instrumentalness': [0.874,\n",
       "  0.738,\n",
       "  0.827,\n",
       "  0.698,\n",
       "  0.756,\n",
       "  0.838,\n",
       "  0.71,\n",
       "  0.822,\n",
       "  0.536,\n",
       "  0.636],\n",
       " 'liveness': [0.101,\n",
       "  0.0745,\n",
       "  0.855,\n",
       "  0.184,\n",
       "  0.202,\n",
       "  0.0901,\n",
       "  0.0772,\n",
       "  0.101,\n",
       "  0.0902,\n",
       "  0.375],\n",
       " 'valence': [0.239,\n",
       "  0.344,\n",
       "  0.382,\n",
       "  0.295,\n",
       "  0.433,\n",
       "  0.442,\n",
       "  0.361,\n",
       "  0.182,\n",
       "  0.0628,\n",
       "  0.374],\n",
       " 'tempo': [124.013,\n",
       "  185.972,\n",
       "  180.044,\n",
       "  159.962,\n",
       "  172.002,\n",
       "  115.502,\n",
       "  159.968,\n",
       "  90.012,\n",
       "  81.562,\n",
       "  100.015],\n",
       " 'duration_ms': [445000,\n",
       "  430000,\n",
       "  416000,\n",
       "  486000,\n",
       "  390698,\n",
       "  398961,\n",
       "  408000,\n",
       "  462000,\n",
       "  430244,\n",
       "  440000]}"
      ]
     },
     "execution_count": 17,
     "metadata": {},
     "output_type": "execute_result"
    }
   ],
   "source": [
    "songs_features_dict"
   ]
  },
  {
   "cell_type": "markdown",
   "metadata": {},
   "source": [
    "## create dataframe"
   ]
  },
  {
   "cell_type": "code",
   "execution_count": 18,
   "metadata": {},
   "outputs": [
    {
     "data": {
      "text/html": [
       "<div>\n",
       "<style scoped>\n",
       "    .dataframe tbody tr th:only-of-type {\n",
       "        vertical-align: middle;\n",
       "    }\n",
       "\n",
       "    .dataframe tbody tr th {\n",
       "        vertical-align: top;\n",
       "    }\n",
       "\n",
       "    .dataframe thead th {\n",
       "        text-align: right;\n",
       "    }\n",
       "</style>\n",
       "<table border=\"1\" class=\"dataframe\">\n",
       "  <thead>\n",
       "    <tr style=\"text-align: right;\">\n",
       "      <th></th>\n",
       "      <th>id</th>\n",
       "      <th>danceability</th>\n",
       "      <th>energy</th>\n",
       "      <th>loudness</th>\n",
       "      <th>speechiness</th>\n",
       "      <th>acousticness</th>\n",
       "      <th>instrumentalness</th>\n",
       "      <th>liveness</th>\n",
       "      <th>valence</th>\n",
       "      <th>tempo</th>\n",
       "      <th>duration_ms</th>\n",
       "    </tr>\n",
       "  </thead>\n",
       "  <tbody>\n",
       "    <tr>\n",
       "      <th>0</th>\n",
       "      <td>1pT8xIukhRvFJJZNCSbChL</td>\n",
       "      <td>0.820</td>\n",
       "      <td>0.541</td>\n",
       "      <td>-8.603</td>\n",
       "      <td>0.0502</td>\n",
       "      <td>0.2830</td>\n",
       "      <td>0.874</td>\n",
       "      <td>0.1010</td>\n",
       "      <td>0.239</td>\n",
       "      <td>124.013</td>\n",
       "      <td>445000</td>\n",
       "    </tr>\n",
       "    <tr>\n",
       "      <th>1</th>\n",
       "      <td>7r5kNKIVjZoak8RVdnq5an</td>\n",
       "      <td>0.708</td>\n",
       "      <td>0.609</td>\n",
       "      <td>-8.494</td>\n",
       "      <td>0.2330</td>\n",
       "      <td>0.0337</td>\n",
       "      <td>0.738</td>\n",
       "      <td>0.0745</td>\n",
       "      <td>0.344</td>\n",
       "      <td>185.972</td>\n",
       "      <td>430000</td>\n",
       "    </tr>\n",
       "    <tr>\n",
       "      <th>2</th>\n",
       "      <td>0fjhXPjlLOJPcbYIzSw4Zl</td>\n",
       "      <td>0.574</td>\n",
       "      <td>0.621</td>\n",
       "      <td>-10.323</td>\n",
       "      <td>0.0556</td>\n",
       "      <td>0.0137</td>\n",
       "      <td>0.827</td>\n",
       "      <td>0.8550</td>\n",
       "      <td>0.382</td>\n",
       "      <td>180.044</td>\n",
       "      <td>416000</td>\n",
       "    </tr>\n",
       "    <tr>\n",
       "      <th>3</th>\n",
       "      <td>4mslBDDvZbWSW6PRCfZqXV</td>\n",
       "      <td>0.590</td>\n",
       "      <td>0.757</td>\n",
       "      <td>-8.280</td>\n",
       "      <td>0.0800</td>\n",
       "      <td>0.1040</td>\n",
       "      <td>0.698</td>\n",
       "      <td>0.1840</td>\n",
       "      <td>0.295</td>\n",
       "      <td>159.962</td>\n",
       "      <td>486000</td>\n",
       "    </tr>\n",
       "    <tr>\n",
       "      <th>4</th>\n",
       "      <td>3wCCCf7kHM9EaEj3NEPECV</td>\n",
       "      <td>0.710</td>\n",
       "      <td>0.415</td>\n",
       "      <td>-10.029</td>\n",
       "      <td>0.2020</td>\n",
       "      <td>0.1060</td>\n",
       "      <td>0.756</td>\n",
       "      <td>0.2020</td>\n",
       "      <td>0.433</td>\n",
       "      <td>172.002</td>\n",
       "      <td>390698</td>\n",
       "    </tr>\n",
       "  </tbody>\n",
       "</table>\n",
       "</div>"
      ],
      "text/plain": [
       "                       id  danceability  energy  loudness  speechiness  \\\n",
       "0  1pT8xIukhRvFJJZNCSbChL         0.820   0.541    -8.603       0.0502   \n",
       "1  7r5kNKIVjZoak8RVdnq5an         0.708   0.609    -8.494       0.2330   \n",
       "2  0fjhXPjlLOJPcbYIzSw4Zl         0.574   0.621   -10.323       0.0556   \n",
       "3  4mslBDDvZbWSW6PRCfZqXV         0.590   0.757    -8.280       0.0800   \n",
       "4  3wCCCf7kHM9EaEj3NEPECV         0.710   0.415   -10.029       0.2020   \n",
       "\n",
       "   acousticness  instrumentalness  liveness  valence    tempo  duration_ms  \n",
       "0        0.2830             0.874    0.1010    0.239  124.013       445000  \n",
       "1        0.0337             0.738    0.0745    0.344  185.972       430000  \n",
       "2        0.0137             0.827    0.8550    0.382  180.044       416000  \n",
       "3        0.1040             0.698    0.1840    0.295  159.962       486000  \n",
       "4        0.1060             0.756    0.2020    0.433  172.002       390698  "
      ]
     },
     "execution_count": 18,
     "metadata": {},
     "output_type": "execute_result"
    }
   ],
   "source": [
    "df = pd.DataFrame(songs_features_dict)\n",
    "df.head()"
   ]
  },
  {
   "cell_type": "code",
   "execution_count": 19,
   "metadata": {},
   "outputs": [],
   "source": [
    "df.insert(11, \"popularity\", pd.Series(t_popularity) , True) "
   ]
  },
  {
   "cell_type": "markdown",
   "metadata": {},
   "source": [
    "# we define ourselves the tracks types based on our knowledge"
   ]
  },
  {
   "cell_type": "code",
   "execution_count": 20,
   "metadata": {},
   "outputs": [],
   "source": [
    "df.insert(12, \"track_type\", 'chill glitch' , True)\n",
    "df = df.set_index('id')"
   ]
  },
  {
   "cell_type": "code",
   "execution_count": 21,
   "metadata": {},
   "outputs": [
    {
     "data": {
      "text/html": [
       "<div>\n",
       "<style scoped>\n",
       "    .dataframe tbody tr th:only-of-type {\n",
       "        vertical-align: middle;\n",
       "    }\n",
       "\n",
       "    .dataframe tbody tr th {\n",
       "        vertical-align: top;\n",
       "    }\n",
       "\n",
       "    .dataframe thead th {\n",
       "        text-align: right;\n",
       "    }\n",
       "</style>\n",
       "<table border=\"1\" class=\"dataframe\">\n",
       "  <thead>\n",
       "    <tr style=\"text-align: right;\">\n",
       "      <th></th>\n",
       "      <th>danceability</th>\n",
       "      <th>energy</th>\n",
       "      <th>loudness</th>\n",
       "      <th>speechiness</th>\n",
       "      <th>acousticness</th>\n",
       "      <th>instrumentalness</th>\n",
       "      <th>liveness</th>\n",
       "      <th>valence</th>\n",
       "      <th>tempo</th>\n",
       "      <th>duration_ms</th>\n",
       "      <th>popularity</th>\n",
       "      <th>track_type</th>\n",
       "    </tr>\n",
       "    <tr>\n",
       "      <th>id</th>\n",
       "      <th></th>\n",
       "      <th></th>\n",
       "      <th></th>\n",
       "      <th></th>\n",
       "      <th></th>\n",
       "      <th></th>\n",
       "      <th></th>\n",
       "      <th></th>\n",
       "      <th></th>\n",
       "      <th></th>\n",
       "      <th></th>\n",
       "      <th></th>\n",
       "    </tr>\n",
       "  </thead>\n",
       "  <tbody>\n",
       "    <tr>\n",
       "      <th>1pT8xIukhRvFJJZNCSbChL</th>\n",
       "      <td>0.820</td>\n",
       "      <td>0.541</td>\n",
       "      <td>-8.603</td>\n",
       "      <td>0.0502</td>\n",
       "      <td>0.2830</td>\n",
       "      <td>0.874</td>\n",
       "      <td>0.1010</td>\n",
       "      <td>0.2390</td>\n",
       "      <td>124.013</td>\n",
       "      <td>445000</td>\n",
       "      <td>18</td>\n",
       "      <td>chill glitch</td>\n",
       "    </tr>\n",
       "    <tr>\n",
       "      <th>7r5kNKIVjZoak8RVdnq5an</th>\n",
       "      <td>0.708</td>\n",
       "      <td>0.609</td>\n",
       "      <td>-8.494</td>\n",
       "      <td>0.2330</td>\n",
       "      <td>0.0337</td>\n",
       "      <td>0.738</td>\n",
       "      <td>0.0745</td>\n",
       "      <td>0.3440</td>\n",
       "      <td>185.972</td>\n",
       "      <td>430000</td>\n",
       "      <td>15</td>\n",
       "      <td>chill glitch</td>\n",
       "    </tr>\n",
       "    <tr>\n",
       "      <th>0fjhXPjlLOJPcbYIzSw4Zl</th>\n",
       "      <td>0.574</td>\n",
       "      <td>0.621</td>\n",
       "      <td>-10.323</td>\n",
       "      <td>0.0556</td>\n",
       "      <td>0.0137</td>\n",
       "      <td>0.827</td>\n",
       "      <td>0.8550</td>\n",
       "      <td>0.3820</td>\n",
       "      <td>180.044</td>\n",
       "      <td>416000</td>\n",
       "      <td>15</td>\n",
       "      <td>chill glitch</td>\n",
       "    </tr>\n",
       "    <tr>\n",
       "      <th>4mslBDDvZbWSW6PRCfZqXV</th>\n",
       "      <td>0.590</td>\n",
       "      <td>0.757</td>\n",
       "      <td>-8.280</td>\n",
       "      <td>0.0800</td>\n",
       "      <td>0.1040</td>\n",
       "      <td>0.698</td>\n",
       "      <td>0.1840</td>\n",
       "      <td>0.2950</td>\n",
       "      <td>159.962</td>\n",
       "      <td>486000</td>\n",
       "      <td>14</td>\n",
       "      <td>chill glitch</td>\n",
       "    </tr>\n",
       "    <tr>\n",
       "      <th>3wCCCf7kHM9EaEj3NEPECV</th>\n",
       "      <td>0.710</td>\n",
       "      <td>0.415</td>\n",
       "      <td>-10.029</td>\n",
       "      <td>0.2020</td>\n",
       "      <td>0.1060</td>\n",
       "      <td>0.756</td>\n",
       "      <td>0.2020</td>\n",
       "      <td>0.4330</td>\n",
       "      <td>172.002</td>\n",
       "      <td>390698</td>\n",
       "      <td>13</td>\n",
       "      <td>chill glitch</td>\n",
       "    </tr>\n",
       "    <tr>\n",
       "      <th>6CoDK9CeA2ohpPNE5jCk6Y</th>\n",
       "      <td>0.796</td>\n",
       "      <td>0.607</td>\n",
       "      <td>-8.798</td>\n",
       "      <td>0.0630</td>\n",
       "      <td>0.2220</td>\n",
       "      <td>0.838</td>\n",
       "      <td>0.0901</td>\n",
       "      <td>0.4420</td>\n",
       "      <td>115.502</td>\n",
       "      <td>398961</td>\n",
       "      <td>13</td>\n",
       "      <td>chill glitch</td>\n",
       "    </tr>\n",
       "    <tr>\n",
       "      <th>7kGErpXASxvZQTk5m1FfZ7</th>\n",
       "      <td>0.654</td>\n",
       "      <td>0.580</td>\n",
       "      <td>-8.561</td>\n",
       "      <td>0.0743</td>\n",
       "      <td>0.1630</td>\n",
       "      <td>0.710</td>\n",
       "      <td>0.0772</td>\n",
       "      <td>0.3610</td>\n",
       "      <td>159.968</td>\n",
       "      <td>408000</td>\n",
       "      <td>12</td>\n",
       "      <td>chill glitch</td>\n",
       "    </tr>\n",
       "    <tr>\n",
       "      <th>66HlVZYHJgGw1C61kbkLFW</th>\n",
       "      <td>0.732</td>\n",
       "      <td>0.680</td>\n",
       "      <td>-8.482</td>\n",
       "      <td>0.0850</td>\n",
       "      <td>0.0306</td>\n",
       "      <td>0.822</td>\n",
       "      <td>0.1010</td>\n",
       "      <td>0.1820</td>\n",
       "      <td>90.012</td>\n",
       "      <td>462000</td>\n",
       "      <td>13</td>\n",
       "      <td>chill glitch</td>\n",
       "    </tr>\n",
       "    <tr>\n",
       "      <th>6veoMkqzEwhzV9VHkMZ1jf</th>\n",
       "      <td>0.325</td>\n",
       "      <td>0.637</td>\n",
       "      <td>-9.472</td>\n",
       "      <td>0.0496</td>\n",
       "      <td>0.0160</td>\n",
       "      <td>0.536</td>\n",
       "      <td>0.0902</td>\n",
       "      <td>0.0628</td>\n",
       "      <td>81.562</td>\n",
       "      <td>430244</td>\n",
       "      <td>11</td>\n",
       "      <td>chill glitch</td>\n",
       "    </tr>\n",
       "    <tr>\n",
       "      <th>1LjBdXAAoJdxflnJKTZiab</th>\n",
       "      <td>0.836</td>\n",
       "      <td>0.562</td>\n",
       "      <td>-9.202</td>\n",
       "      <td>0.1280</td>\n",
       "      <td>0.1380</td>\n",
       "      <td>0.636</td>\n",
       "      <td>0.3750</td>\n",
       "      <td>0.3740</td>\n",
       "      <td>100.015</td>\n",
       "      <td>440000</td>\n",
       "      <td>11</td>\n",
       "      <td>chill glitch</td>\n",
       "    </tr>\n",
       "  </tbody>\n",
       "</table>\n",
       "</div>"
      ],
      "text/plain": [
       "                        danceability  energy  loudness  speechiness  \\\n",
       "id                                                                    \n",
       "1pT8xIukhRvFJJZNCSbChL         0.820   0.541    -8.603       0.0502   \n",
       "7r5kNKIVjZoak8RVdnq5an         0.708   0.609    -8.494       0.2330   \n",
       "0fjhXPjlLOJPcbYIzSw4Zl         0.574   0.621   -10.323       0.0556   \n",
       "4mslBDDvZbWSW6PRCfZqXV         0.590   0.757    -8.280       0.0800   \n",
       "3wCCCf7kHM9EaEj3NEPECV         0.710   0.415   -10.029       0.2020   \n",
       "6CoDK9CeA2ohpPNE5jCk6Y         0.796   0.607    -8.798       0.0630   \n",
       "7kGErpXASxvZQTk5m1FfZ7         0.654   0.580    -8.561       0.0743   \n",
       "66HlVZYHJgGw1C61kbkLFW         0.732   0.680    -8.482       0.0850   \n",
       "6veoMkqzEwhzV9VHkMZ1jf         0.325   0.637    -9.472       0.0496   \n",
       "1LjBdXAAoJdxflnJKTZiab         0.836   0.562    -9.202       0.1280   \n",
       "\n",
       "                        acousticness  instrumentalness  liveness  valence  \\\n",
       "id                                                                          \n",
       "1pT8xIukhRvFJJZNCSbChL        0.2830             0.874    0.1010   0.2390   \n",
       "7r5kNKIVjZoak8RVdnq5an        0.0337             0.738    0.0745   0.3440   \n",
       "0fjhXPjlLOJPcbYIzSw4Zl        0.0137             0.827    0.8550   0.3820   \n",
       "4mslBDDvZbWSW6PRCfZqXV        0.1040             0.698    0.1840   0.2950   \n",
       "3wCCCf7kHM9EaEj3NEPECV        0.1060             0.756    0.2020   0.4330   \n",
       "6CoDK9CeA2ohpPNE5jCk6Y        0.2220             0.838    0.0901   0.4420   \n",
       "7kGErpXASxvZQTk5m1FfZ7        0.1630             0.710    0.0772   0.3610   \n",
       "66HlVZYHJgGw1C61kbkLFW        0.0306             0.822    0.1010   0.1820   \n",
       "6veoMkqzEwhzV9VHkMZ1jf        0.0160             0.536    0.0902   0.0628   \n",
       "1LjBdXAAoJdxflnJKTZiab        0.1380             0.636    0.3750   0.3740   \n",
       "\n",
       "                          tempo  duration_ms  popularity    track_type  \n",
       "id                                                                      \n",
       "1pT8xIukhRvFJJZNCSbChL  124.013       445000          18  chill glitch  \n",
       "7r5kNKIVjZoak8RVdnq5an  185.972       430000          15  chill glitch  \n",
       "0fjhXPjlLOJPcbYIzSw4Zl  180.044       416000          15  chill glitch  \n",
       "4mslBDDvZbWSW6PRCfZqXV  159.962       486000          14  chill glitch  \n",
       "3wCCCf7kHM9EaEj3NEPECV  172.002       390698          13  chill glitch  \n",
       "6CoDK9CeA2ohpPNE5jCk6Y  115.502       398961          13  chill glitch  \n",
       "7kGErpXASxvZQTk5m1FfZ7  159.968       408000          12  chill glitch  \n",
       "66HlVZYHJgGw1C61kbkLFW   90.012       462000          13  chill glitch  \n",
       "6veoMkqzEwhzV9VHkMZ1jf   81.562       430244          11  chill glitch  \n",
       "1LjBdXAAoJdxflnJKTZiab  100.015       440000          11  chill glitch  "
      ]
     },
     "execution_count": 21,
     "metadata": {},
     "output_type": "execute_result"
    }
   ],
   "source": [
    "df"
   ]
  },
  {
   "cell_type": "code",
   "execution_count": 22,
   "metadata": {},
   "outputs": [
    {
     "data": {
      "text/html": [
       "<div>\n",
       "<style scoped>\n",
       "    .dataframe tbody tr th:only-of-type {\n",
       "        vertical-align: middle;\n",
       "    }\n",
       "\n",
       "    .dataframe tbody tr th {\n",
       "        vertical-align: top;\n",
       "    }\n",
       "\n",
       "    .dataframe thead th {\n",
       "        text-align: right;\n",
       "    }\n",
       "</style>\n",
       "<table border=\"1\" class=\"dataframe\">\n",
       "  <thead>\n",
       "    <tr style=\"text-align: right;\">\n",
       "      <th></th>\n",
       "      <th>danceability</th>\n",
       "      <th>energy</th>\n",
       "      <th>loudness</th>\n",
       "      <th>speechiness</th>\n",
       "      <th>acousticness</th>\n",
       "      <th>instrumentalness</th>\n",
       "      <th>liveness</th>\n",
       "      <th>valence</th>\n",
       "      <th>tempo</th>\n",
       "      <th>duration_ms</th>\n",
       "      <th>popularity</th>\n",
       "    </tr>\n",
       "  </thead>\n",
       "  <tbody>\n",
       "    <tr>\n",
       "      <th>count</th>\n",
       "      <td>10.000000</td>\n",
       "      <td>10.000000</td>\n",
       "      <td>10.000000</td>\n",
       "      <td>10.000000</td>\n",
       "      <td>10.000000</td>\n",
       "      <td>10.000000</td>\n",
       "      <td>10.000000</td>\n",
       "      <td>10.000000</td>\n",
       "      <td>10.000000</td>\n",
       "      <td>10.000000</td>\n",
       "      <td>10.00000</td>\n",
       "    </tr>\n",
       "    <tr>\n",
       "      <th>mean</th>\n",
       "      <td>0.674500</td>\n",
       "      <td>0.600900</td>\n",
       "      <td>-9.024400</td>\n",
       "      <td>0.102070</td>\n",
       "      <td>0.111000</td>\n",
       "      <td>0.743500</td>\n",
       "      <td>0.215000</td>\n",
       "      <td>0.311480</td>\n",
       "      <td>136.905200</td>\n",
       "      <td>430690.300000</td>\n",
       "      <td>13.50000</td>\n",
       "    </tr>\n",
       "    <tr>\n",
       "      <th>std</th>\n",
       "      <td>0.151846</td>\n",
       "      <td>0.089772</td>\n",
       "      <td>0.707162</td>\n",
       "      <td>0.065388</td>\n",
       "      <td>0.092101</td>\n",
       "      <td>0.103862</td>\n",
       "      <td>0.243179</td>\n",
       "      <td>0.119409</td>\n",
       "      <td>39.173171</td>\n",
       "      <td>29189.726351</td>\n",
       "      <td>2.12132</td>\n",
       "    </tr>\n",
       "    <tr>\n",
       "      <th>min</th>\n",
       "      <td>0.325000</td>\n",
       "      <td>0.415000</td>\n",
       "      <td>-10.323000</td>\n",
       "      <td>0.049600</td>\n",
       "      <td>0.013700</td>\n",
       "      <td>0.536000</td>\n",
       "      <td>0.074500</td>\n",
       "      <td>0.062800</td>\n",
       "      <td>81.562000</td>\n",
       "      <td>390698.000000</td>\n",
       "      <td>11.00000</td>\n",
       "    </tr>\n",
       "    <tr>\n",
       "      <th>25%</th>\n",
       "      <td>0.606000</td>\n",
       "      <td>0.566500</td>\n",
       "      <td>-9.404500</td>\n",
       "      <td>0.057450</td>\n",
       "      <td>0.031375</td>\n",
       "      <td>0.701000</td>\n",
       "      <td>0.090125</td>\n",
       "      <td>0.253000</td>\n",
       "      <td>103.886750</td>\n",
       "      <td>410000.000000</td>\n",
       "      <td>12.25000</td>\n",
       "    </tr>\n",
       "    <tr>\n",
       "      <th>50%</th>\n",
       "      <td>0.709000</td>\n",
       "      <td>0.608000</td>\n",
       "      <td>-8.700500</td>\n",
       "      <td>0.077150</td>\n",
       "      <td>0.105000</td>\n",
       "      <td>0.747000</td>\n",
       "      <td>0.101000</td>\n",
       "      <td>0.352500</td>\n",
       "      <td>141.987500</td>\n",
       "      <td>430122.000000</td>\n",
       "      <td>13.00000</td>\n",
       "    </tr>\n",
       "    <tr>\n",
       "      <th>75%</th>\n",
       "      <td>0.780000</td>\n",
       "      <td>0.633000</td>\n",
       "      <td>-8.510750</td>\n",
       "      <td>0.117250</td>\n",
       "      <td>0.156750</td>\n",
       "      <td>0.825750</td>\n",
       "      <td>0.197500</td>\n",
       "      <td>0.380000</td>\n",
       "      <td>168.993500</td>\n",
       "      <td>443750.000000</td>\n",
       "      <td>14.75000</td>\n",
       "    </tr>\n",
       "    <tr>\n",
       "      <th>max</th>\n",
       "      <td>0.836000</td>\n",
       "      <td>0.757000</td>\n",
       "      <td>-8.280000</td>\n",
       "      <td>0.233000</td>\n",
       "      <td>0.283000</td>\n",
       "      <td>0.874000</td>\n",
       "      <td>0.855000</td>\n",
       "      <td>0.442000</td>\n",
       "      <td>185.972000</td>\n",
       "      <td>486000.000000</td>\n",
       "      <td>18.00000</td>\n",
       "    </tr>\n",
       "  </tbody>\n",
       "</table>\n",
       "</div>"
      ],
      "text/plain": [
       "       danceability     energy   loudness  speechiness  acousticness  \\\n",
       "count     10.000000  10.000000  10.000000    10.000000     10.000000   \n",
       "mean       0.674500   0.600900  -9.024400     0.102070      0.111000   \n",
       "std        0.151846   0.089772   0.707162     0.065388      0.092101   \n",
       "min        0.325000   0.415000 -10.323000     0.049600      0.013700   \n",
       "25%        0.606000   0.566500  -9.404500     0.057450      0.031375   \n",
       "50%        0.709000   0.608000  -8.700500     0.077150      0.105000   \n",
       "75%        0.780000   0.633000  -8.510750     0.117250      0.156750   \n",
       "max        0.836000   0.757000  -8.280000     0.233000      0.283000   \n",
       "\n",
       "       instrumentalness   liveness    valence       tempo    duration_ms  \\\n",
       "count         10.000000  10.000000  10.000000   10.000000      10.000000   \n",
       "mean           0.743500   0.215000   0.311480  136.905200  430690.300000   \n",
       "std            0.103862   0.243179   0.119409   39.173171   29189.726351   \n",
       "min            0.536000   0.074500   0.062800   81.562000  390698.000000   \n",
       "25%            0.701000   0.090125   0.253000  103.886750  410000.000000   \n",
       "50%            0.747000   0.101000   0.352500  141.987500  430122.000000   \n",
       "75%            0.825750   0.197500   0.380000  168.993500  443750.000000   \n",
       "max            0.874000   0.855000   0.442000  185.972000  486000.000000   \n",
       "\n",
       "       popularity  \n",
       "count    10.00000  \n",
       "mean     13.50000  \n",
       "std       2.12132  \n",
       "min      11.00000  \n",
       "25%      12.25000  \n",
       "50%      13.00000  \n",
       "75%      14.75000  \n",
       "max      18.00000  "
      ]
     },
     "execution_count": 22,
     "metadata": {},
     "output_type": "execute_result"
    }
   ],
   "source": [
    "df.describe()"
   ]
  },
  {
   "cell_type": "markdown",
   "metadata": {},
   "source": [
    "# DISTRIBUTIONS"
   ]
  },
  {
   "cell_type": "code",
   "execution_count": 23,
   "metadata": {},
   "outputs": [],
   "source": [
    "import matplotlib.pyplot as plt\n",
    "import seaborn as sns"
   ]
  },
  {
   "cell_type": "code",
   "execution_count": 24,
   "metadata": {},
   "outputs": [],
   "source": [
    "sns.set()\n",
    "\n",
    "# GET CURRENT SIZE\n",
    "fig_size = plt.rcParams['figure.figsize']"
   ]
  },
  {
   "cell_type": "code",
   "execution_count": 25,
   "metadata": {},
   "outputs": [
    {
     "data": {
      "text/plain": [
       "[6.0, 4.0]"
      ]
     },
     "execution_count": 25,
     "metadata": {},
     "output_type": "execute_result"
    }
   ],
   "source": [
    "fig_size"
   ]
  },
  {
   "cell_type": "code",
   "execution_count": 26,
   "metadata": {},
   "outputs": [],
   "source": [
    "# SET WIDTH AND HEIGHT\n",
    "fig_size[0] = 14\n",
    "fig_size[1] = 9\n",
    "plt.rcParams['figure.figsize'] = fig_size"
   ]
  },
  {
   "cell_type": "markdown",
   "metadata": {},
   "source": [
    "###  duration ms dist"
   ]
  },
  {
   "cell_type": "code",
   "execution_count": 27,
   "metadata": {},
   "outputs": [
    {
     "name": "stderr",
     "output_type": "stream",
     "text": [
      "C:\\Users\\orenz\\Anaconda3\\lib\\site-packages\\scipy\\stats\\stats.py:1713: FutureWarning: Using a non-tuple sequence for multidimensional indexing is deprecated; use `arr[tuple(seq)]` instead of `arr[seq]`. In the future this will be interpreted as an array index, `arr[np.array(seq)]`, which will result either in an error or a different result.\n",
      "  return np.add.reduce(sorted[indexer] * weights, axis=axis) / sumval\n"
     ]
    },
    {
     "data": {
      "text/plain": [
       "Text(0.5,0,'duration_min')"
      ]
     },
     "execution_count": 27,
     "metadata": {},
     "output_type": "execute_result"
    },
    {
     "data": {
      "image/png": "[encoded data removed]",
      "text/plain": [
       "<Figure size 1008x648 with 1 Axes>"
      ]
     },
     "metadata": {},
     "output_type": "display_data"
    }
   ],
   "source": [
    "sns.distplot((df.duration_ms/1000.0)/60.0)\n",
    "plt.xlabel('duration_min',fontsize=18)"
   ]
  },
  {
   "cell_type": "markdown",
   "metadata": {},
   "source": [
    "### other features distributions"
   ]
  },
  {
   "cell_type": "code",
   "execution_count": 28,
   "metadata": {},
   "outputs": [
    {
     "name": "stderr",
     "output_type": "stream",
     "text": [
      "C:\\Users\\orenz\\Anaconda3\\lib\\site-packages\\scipy\\stats\\stats.py:1713: FutureWarning: Using a non-tuple sequence for multidimensional indexing is deprecated; use `arr[tuple(seq)]` instead of `arr[seq]`. In the future this will be interpreted as an array index, `arr[np.array(seq)]`, which will result either in an error or a different result.\n",
      "  return np.add.reduce(sorted[indexer] * weights, axis=axis) / sumval\n"
     ]
    },
    {
     "data": {
      "image/png": "[encoded data removed]",
      "text/plain": [
       "<Figure size 1008x648 with 9 Axes>"
      ]
     },
     "metadata": {},
     "output_type": "display_data"
    }
   ],
   "source": [
    "plt.subplot(331)\n",
    "sns.distplot(df.danceability)\n",
    "plt.xlabel('danceability', fontsize=18)\n",
    "\n",
    "plt.subplot(332)\n",
    "sns.distplot(df.energy)\n",
    "plt.xlabel('energy', fontsize=18)\n",
    "\n",
    "plt.subplot(333)\n",
    "sns.distplot(df.loudness)\n",
    "plt.xlabel('loudness', fontsize=18)\n",
    "\n",
    "plt.subplot(334)\n",
    "sns.distplot(df.speechiness)\n",
    "plt.xlabel('speechiness', fontsize=18)\n",
    "\n",
    "plt.subplot(335)\n",
    "sns.distplot(df.acousticness)\n",
    "plt.xlabel('acousticness', fontsize=18)\n",
    "\n",
    "plt.subplot(336)\n",
    "sns.distplot(df.instrumentalness)\n",
    "plt.xlabel('instrumentalness', fontsize=18)\n",
    "\n",
    "plt.subplot(337)\n",
    "sns.distplot(df.liveness)\n",
    "plt.xlabel('liveness', fontsize=18)\n",
    "\n",
    "plt.subplot(338)\n",
    "sns.distplot(df.valence)\n",
    "plt.xlabel('valence', fontsize=18)\n",
    "\n",
    "plt.subplot(339)\n",
    "sns.distplot(df.tempo)\n",
    "plt.xlabel('tempo', fontsize=18)\n",
    "\n",
    "plt.tight_layout()\n",
    "plt.show()\n"
   ]
  },
  {
   "cell_type": "code",
   "execution_count": 29,
   "metadata": {},
   "outputs": [],
   "source": [
    "df.to_csv('mantismash_tracks_data.csv')"
   ]
  },
  {
   "cell_type": "code",
   "execution_count": null,
   "metadata": {},
   "outputs": [],
   "source": []
  }
 ],
 "metadata": {
  "kernelspec": {
   "display_name": "Python 3",
   "language": "python",
   "name": "python3"
  },
  "language_info": {
   "codemirror_mode": {
    "name": "ipython",
    "version": 3
   },
   "file_extension": ".py",
   "mimetype": "text/x-python",
   "name": "python",
   "nbconvert_exporter": "python",
   "pygments_lexer": "ipython3",
   "version": "3.7.0"
  }
 },
 "nbformat": 4,
 "nbformat_minor": 2
}
